{
 "cells": [
  {
   "cell_type": "markdown",
   "metadata": {},
   "source": [
    "# Part 1: Bayesian Approach\n",
    "\n",
    "Is the one who earns more (>50K) necessarily in the different age category from the one who earns less (<=50)?\n",
    "\n",
    "X- age Y-income"
   ]
  },
  {
   "cell_type": "markdown",
   "metadata": {},
   "source": [
    "#### 1."
   ]
  },
  {
   "cell_type": "code",
   "execution_count": 5,
   "metadata": {},
   "outputs": [],
   "source": [
    "# Deprecation of jupyter warnings about sns functions that will be deprecated in the future. (sns.distplot)\n",
    "import warnings\n",
    "warnings.filterwarnings('ignore')\n",
    "\n",
    "#Reading a CSV file into pandas Dataframe\n",
    "import pandas as pd\n",
    "import numpy as np\n",
    "import math \n",
    "import matplotlib.pyplot as plt\n",
    "import random\n",
    "from scipy.stats import f\n",
    "from scipy.stats import norm\n",
    "import pprint\n",
    "import sys\n",
    "\n",
    "random.seed(1)\n",
    "# Removing missing values\n",
    "missing_values = [\"n/a\", \"na\", \"--\",\"?\"]\n",
    "df_full = pd.read_csv(\"adult.csv\",sep=\",\", na_values = missing_values)\n",
    "df_full=df_full.dropna()\n",
    "\n",
    "# Converting string columns to binary.\n",
    "df_full['gender'] =df_full['gender'].map({'Female': 0, 'Male': 1})\n",
    "df_full['income'] = df_full['income'].map({'>50K': 1, '<=50K': 0})\n",
    "\n",
    "df_200=df_full.sample(n = 200)\n",
    "df_without_sub_sample=df_full.drop(df_200.index)\n",
    "df_1000=df_without_sub_sample.sample(n = 1000)"
   ]
  },
  {
   "cell_type": "markdown",
   "metadata": {},
   "source": [
    "#### 2."
   ]
  },
  {
   "cell_type": "code",
   "execution_count": 6,
   "metadata": {},
   "outputs": [],
   "source": [
    "# Define binary indicators Z_i\n",
    "def get_indicator(x,threshold):\n",
    "    if x>threshold:\n",
    "        return 1\n",
    "    return 0\n",
    "\n",
    "threshold_of_viewed_data=df_200['age'].median()\n",
    "df_200['Z']=[get_indicator(x,threshold_of_viewed_data) for x in df_200['age'].values]\n",
    "\n",
    "threshold_of_past_data=df_1000['age'].median()\n",
    "df_1000['Z']=[get_indicator(x,threshold_of_past_data) for x in df_1000['age'].values]"
   ]
  },
  {
   "cell_type": "markdown",
   "metadata": {},
   "source": [
    "##### a."
   ]
  },
  {
   "cell_type": "markdown",
   "metadata": {},
   "source": [
    "Lets define:\n",
    "\n",
    "$ P(Z=1|Y=1)={p_1} $ \n",
    "\n",
    "$ P(Z=1|Y=0)={p_2} $\n",
    "\n",
    "$ \\eta(p)=log(p/1-p)$ \n",
    "\n",
    "$\\psi = \\eta(p1)-\\eta(p2) = log((x_{00}*x_{11})/(x_{01}*x_{10}))$"
   ]
  },
  {
   "cell_type": "code",
   "execution_count": 7,
   "metadata": {},
   "outputs": [
    {
     "name": "stdout",
     "output_type": "stream",
     "text": [
      "Estimation of log OR is: 1.4390997525697444\n",
      "Confidence Interval of log OR is [1.08609870362007, 1.7921008015194189]\n"
     ]
    }
   ],
   "source": [
    "# estimation of p1,p2\n",
    "def estimate_p(df,category):\n",
    "    indicators=df[df['income'] ==category]['Z'].values\n",
    "    total=sum(indicators)\n",
    "    p=total/len(indicators)\n",
    "    return p\n",
    "\n",
    "p1=estimate_p(df_200,1)\n",
    "p2=estimate_p(df_200,0)\n",
    "\n",
    "psi_a=math.log(p1/(1-p1))-math.log(p2/(1-p2))\n",
    "print('Estimation of log OR is: {}'.format(psi_a))\n",
    "\n",
    "# esimates stansart eror of log odds ratio using bootstrap\n",
    "def estimate_se_via_bootstrap(df,psi,B,n=150):\n",
    "    sampled_se_list=[]\n",
    "    for i in range(B):\n",
    "        df=df.sample(n, replace=True)\n",
    "        df=df.reset_index(drop=True)\n",
    "        x00=df[df['income'] ==0][df['Z'] ==0].shape[0]\n",
    "        x10=df[df['income'] ==1][df['Z'] ==0].shape[0]\n",
    "        x01=df[df['income'] ==0][df['Z'] ==1].shape[0]\n",
    "        x11=df[df['income'] ==1][df['Z'] ==1].shape[0]\n",
    "        se=1/x00 if x00!=0 else 0\n",
    "        se=se+1/x10 if x10!=0 else se\n",
    "        se=se+1/x01 if x01!=0 else se\n",
    "        se=se+1/x11 if x11!=0 else se\n",
    "        psi_se=(np.sqrt(se))*psi\n",
    "        sampled_se_list.append(psi_se)\n",
    "    return sum(sampled_se_list)/B\n",
    "\n",
    "\n",
    "se = estimate_se_via_bootstrap(df_200,psi_a,B=500)\n",
    "\n",
    "\n",
    "z_quantile=norm.ppf(1-0.05/2)\n",
    "CI=[psi_a-z_quantile*se,psi_a+z_quantile*se]\n",
    "    \n",
    "print('Confidence Interval of log OR is {}'.format(CI))"
   ]
  },
  {
   "cell_type": "markdown",
   "metadata": {},
   "source": [
    "##### b.\n",
    "\n",
    "<a href=\"https://ibb.co/c1mpj5T\"><img src=\"https://i.ibb.co/c1mpj5T/2-b.png\" alt=\"2-b\" border=\"0\"></a> \n",
    "\n",
    "(if you cant see the picture, please enter the link manually, to see the calculations.)\n",
    "\n",
    "For standart uniform prior we know that MAP estimator of $p_1$ equal to MLE estimator.\n",
    "\n",
    "From tutorial 6 we know MLE for $p_1$ is $\\bar X_{11}/n$  and for $p_2$ is $\\bar X_{01}/m$ \n",
    "\n",
    "$X_{01}$ ~ $Binomial(X_{0},p_2)$\n",
    "\n",
    "$X_{11}$ ~ $Binomial(X_{1},p_1)$\n"
   ]
  },
  {
   "cell_type": "code",
   "execution_count": 8,
   "metadata": {},
   "outputs": [
    {
     "name": "stdout",
     "output_type": "stream",
     "text": [
      "Estimation of log OR is: 1.0851892683359687\n",
      "Credible Interval of psi is [1.020867553133881, 1.1518594205873076]\n"
     ]
    }
   ],
   "source": [
    "p1_b=df_200[df_200['income'] ==1][df_200['Z'] ==1]['Z'].mean()/df_200[df_200['income'] ==1].shape[0]\n",
    "p2_b=df_200[df_200['income'] ==0][df_200['Z'] ==1]['Z'].mean()/df_200[df_200['income'] ==0].shape[0]\n",
    "psi_b=math.log(p1_b/(1-p1_b))-math.log(p2_b/(1-p2_b))\n",
    "print('Estimation of log OR is: {}'.format(psi_b))\n",
    "\n",
    "def get_credible_int_b(df,sample_size,y,z):\n",
    "    a=df[df['income'] ==y][df['Z'] ==z]['Z'].sum()+1\n",
    "    b=df[df['income'] ==y].shape[0]*df[df['income'] ==y][df['Z'] ==z].shape[0]-df[df['income'] ==y][df['Z'] ==z]['Z'].sum()+1\n",
    "    samples=np.random.beta(a, b, sample_size)\n",
    "    samples.sort()\n",
    "    credible_int=[samples[int(0.05*sample_size/2)],samples[int((1-0.05/2)*sample_size)]]\n",
    "    return credible_int\n",
    "ci_p1=get_credible_int_b(df_200,100000,1,1)\n",
    "ci_p2=get_credible_int_b(df_200,100000,0,1)\n",
    "ci_psi=[math.log(ci_p1[0]/(1-ci_p1[0]))-math.log(ci_p2[0]/(1-ci_p2[0])),math.log(ci_p1[1]/(1-ci_p1[1]))-math.log(ci_p2[1]/(1-ci_p2[1]))]\n",
    "\n",
    "print(\"Credible Interval of psi is {}\".format(ci_psi))"
   ]
  },
  {
   "cell_type": "markdown",
   "metadata": {},
   "source": [
    "##### c."
   ]
  },
  {
   "cell_type": "markdown",
   "metadata": {},
   "source": [
    "Inserting jeffreys prior and solving MAP we get that estimator for $p_1$ is $(\\Sigma^N X_{11} +0.5)/(1+Nn)$\n",
    "and for $p_2$ is $(\\Sigma^M X_{01}+0.5)/(1+Mm)$"
   ]
  },
  {
   "cell_type": "markdown",
   "metadata": {},
   "source": [
    "<a href=\"https://ibb.co/jZ7HKnr\"><img src=\"https://i.ibb.co/jZ7HKnr/2-c.png\" alt=\"2-c\" border=\"0\"></a> \n",
    "\n",
    "\n",
    "(if you cant see the picture, please enter the link manually, to see the calculations.)"
   ]
  },
  {
   "cell_type": "code",
   "execution_count": 9,
   "metadata": {},
   "outputs": [
    {
     "name": "stdout",
     "output_type": "stream",
     "text": [
      "Estimation of log OR is: 1.0898902977078984\n",
      "Credible Interval of psi is [1.027535315829402, 1.1591054335317246]\n"
     ]
    }
   ],
   "source": [
    "p1_c=(df_200[df_200['income'] ==1][df_200['Z'] ==1]['Z'].sum()+0.5)/(1+df_200[df_200['income'] ==1].shape[0]*df_200[df_200['income'] ==1][df_200['Z'] ==1].shape[0])\n",
    "p2_c=(df_200[df_200['income'] ==0][df_200['Z'] ==1]['Z'].sum()+0.5)/(1+df_200[df_200['income'] ==0].shape[0]*df_200[df_200['income'] ==0][df_200['Z'] ==1].shape[0])\n",
    "psi_c=math.log(p1_c/(1-p1_c))-math.log(p2_c/(1-p2_c))\n",
    "print('Estimation of log OR is: {}'.format(psi_c))\n",
    "\n",
    "def get_credible_int_c(df,sample_size,y,z):\n",
    "    a=df[df['income'] ==y][df['Z'] ==z]['Z'].sum()+1.5\n",
    "    b=df[df['income'] ==y].shape[0]*df[df['income'] ==y][df['Z'] ==z].shape[0]-df[df['income'] ==y][df['Z'] ==z]['Z'].sum()+1.5\n",
    "    samples=np.random.beta(a, b, sample_size)\n",
    "    samples.sort()\n",
    "    credible_int=[samples[int(0.05*sample_size/2)],samples[int((1-0.05/2)*sample_size)]]\n",
    "    return credible_int\n",
    "ci_p1=get_credible_int_c(df_200,10000,1,1)\n",
    "ci_p2=get_credible_int_c(df_200,10000,0,1)\n",
    "ci_psi=[math.log(ci_p1[0]/(1-ci_p1[0]))-math.log(ci_p2[0]/(1-ci_p2[0])),math.log(ci_p1[1]/(1-ci_p1[1]))-math.log(ci_p2[1]/(1-ci_p2[1]))]\n",
    "\n",
    "print(\"Credible Interval of psi is {}\".format(ci_psi))"
   ]
  },
  {
   "cell_type": "markdown",
   "metadata": {},
   "source": [
    "##### d.\n",
    "\n",
    "<a href=\"https://ibb.co/qFfXndw\"><img src=\"https://i.ibb.co/qFfXndw/2-d.png\" alt=\"2-d\" border=\"0\"></a>\n",
    "\n",
    "(if you cant see the picture, please enter the link manually, to see the calculations.)"
   ]
  },
  {
   "cell_type": "code",
   "execution_count": 10,
   "metadata": {},
   "outputs": [
    {
     "name": "stdout",
     "output_type": "stream",
     "text": [
      "Estimation of log OR is: 1.0946299487639584\n",
      "Credible Interval of psi is [1.0253065129578154, 1.1643185821950337]\n"
     ]
    }
   ],
   "source": [
    "import numpy as np\n",
    "import matplotlib.pyplot as plt\n",
    "from scipy import stats\n",
    "\n",
    "def get_betas_params(observations):\n",
    "    a, b, loc, scale =stats.beta.fit(observations)\n",
    "    return  (a,b)\n",
    "\n",
    "a_p1,b_p1=get_betas_params(df_1000[df_1000['income'] ==1][df_1000['Z'] ==1]['Z'].values.tolist())\n",
    "a_p2,b_p2=get_betas_params(df_1000[df_1000['income'] ==0][df_1000['Z'] ==1]['Z'].values.tolist())\n",
    "\n",
    "\n",
    "p1_d=(df_200[df_200['income'] ==1][df_200['Z'] ==1]['Z'].sum()+a_p1)/(a_p1+b_p1+df_200[df_200['income'] ==1].shape[0]*df_200[df_200['income'] ==1][df_200['Z'] ==1].shape[0])\n",
    "p2_d=(df_200[df_200['income'] ==0][df_200['Z'] ==1]['Z'].sum()+a_p2)/(a_p2+b_p2+df_200[df_200['income'] ==0].shape[0]*df_200[df_200['income'] ==0][df_200['Z'] ==1].shape[0])\n",
    "psi_d=math.log(p1_d/(1-p1_d))-math.log(p2_d/(1-p2_d))\n",
    "print('Estimation of log OR is: {}'.format(psi_d))\n",
    "\n",
    "def get_credible_int_d(df,sample_size,y,z,alpha,beta):\n",
    "    a=df[df['income'] ==y][df['Z'] ==z]['Z'].sum()+alpha\n",
    "    b=df[df['income'] ==y].shape[0]*df[df['income'] ==y][df['Z'] ==z].shape[0]-df[df['income'] ==y][df['Z'] ==z]['Z'].sum()+beta\n",
    "    samples=np.random.beta(a, b, sample_size)\n",
    "    samples.sort()\n",
    "    credible_int=[samples[int(0.05*sample_size/2)],samples[int((1-0.05/2)*sample_size)]]\n",
    "    return credible_int\n",
    "\n",
    "ci_p1=get_credible_int_b(df_200,10000,1,1)\n",
    "ci_p2=get_credible_int_b(df_200,10000,0,1)\n",
    "ci_psi=[math.log(ci_p1[0]/(1-ci_p1[0]))-math.log(ci_p2[0]/(1-ci_p2[0])),math.log(ci_p1[1]/(1-ci_p1[1]))-math.log(ci_p2[1]/(1-ci_p2[1]))]\n",
    "\n",
    "print(\"Credible Interval of psi is {}\".format(ci_psi))"
   ]
  },
  {
   "cell_type": "markdown",
   "metadata": {},
   "source": [
    "##### e.\n",
    "All the estomators are quite simmilar.But, estimator from 2.a is less similar to the others.\n",
    "We tend to think that estimator from 2.d is more accurate than the others.\n",
    "Jaffrey's prior is better than the flat one and it is non informative.\n",
    "Prior calculated via past samples, assumes knowlege about the disrtibution and seems to be more precise, because in retrospect all the data came from the same data set."
   ]
  },
  {
   "cell_type": "code",
   "execution_count": 11,
   "metadata": {},
   "outputs": [
    {
     "name": "stdout",
     "output_type": "stream",
     "text": [
      "2.a Estimation of log OR is: 1.4390997525697444\n",
      "2.b Estimation of log OR is: 1.0851892683359687\n",
      "2.c Estimation of log OR is: 1.0898902977078984\n",
      "2.d Estimation of log OR is: 1.0946299487639584\n"
     ]
    }
   ],
   "source": [
    "print('2.a Estimation of log OR is: {}'.format(psi_a))\n",
    "print('2.b Estimation of log OR is: {}'.format(psi_b))\n",
    "print('2.c Estimation of log OR is: {}'.format(psi_c))\n",
    "print('2.d Estimation of log OR is: {}'.format(psi_d))"
   ]
  }
 ],
 "metadata": {
  "kernelspec": {
   "display_name": "Python 3",
   "language": "python",
   "name": "python3"
  },
  "language_info": {
   "codemirror_mode": {
    "name": "ipython",
    "version": 3
   },
   "file_extension": ".py",
   "mimetype": "text/x-python",
   "name": "python",
   "nbconvert_exporter": "python",
   "pygments_lexer": "ipython3",
   "version": "3.8.5"
  }
 },
 "nbformat": 4,
 "nbformat_minor": 4
}
