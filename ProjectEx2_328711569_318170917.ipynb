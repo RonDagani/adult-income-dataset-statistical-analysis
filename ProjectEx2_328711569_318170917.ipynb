{
 "cells": [
  {
   "cell_type": "code",
   "execution_count": 1,
   "metadata": {},
   "outputs": [],
   "source": [
    "# Deprocations of jupyter warnings about sns functions that will be deprocated in the future. (sns.distplot)\n",
    "import warnings\n",
    "warnings.filterwarnings('ignore')"
   ]
  },
  {
   "cell_type": "code",
   "execution_count": 2,
   "metadata": {},
   "outputs": [
    {
     "data": {
      "text/html": [
       "<div>\n",
       "<style scoped>\n",
       "    .dataframe tbody tr th:only-of-type {\n",
       "        vertical-align: middle;\n",
       "    }\n",
       "\n",
       "    .dataframe tbody tr th {\n",
       "        vertical-align: top;\n",
       "    }\n",
       "\n",
       "    .dataframe thead th {\n",
       "        text-align: right;\n",
       "    }\n",
       "</style>\n",
       "<table border=\"1\" class=\"dataframe\">\n",
       "  <thead>\n",
       "    <tr style=\"text-align: right;\">\n",
       "      <th></th>\n",
       "      <th>age</th>\n",
       "      <th>workclass</th>\n",
       "      <th>fnlwgt</th>\n",
       "      <th>education</th>\n",
       "      <th>educational-num</th>\n",
       "      <th>marital-status</th>\n",
       "      <th>occupation</th>\n",
       "      <th>relationship</th>\n",
       "      <th>race</th>\n",
       "      <th>gender</th>\n",
       "      <th>capital-gain</th>\n",
       "      <th>capital-loss</th>\n",
       "      <th>hours-per-week</th>\n",
       "      <th>native-country</th>\n",
       "      <th>income</th>\n",
       "    </tr>\n",
       "  </thead>\n",
       "  <tbody>\n",
       "    <tr>\n",
       "      <th>0</th>\n",
       "      <td>25</td>\n",
       "      <td>Private</td>\n",
       "      <td>226802</td>\n",
       "      <td>11th</td>\n",
       "      <td>7</td>\n",
       "      <td>Never-married</td>\n",
       "      <td>Machine-op-inspct</td>\n",
       "      <td>Own-child</td>\n",
       "      <td>Black</td>\n",
       "      <td>1</td>\n",
       "      <td>0</td>\n",
       "      <td>0</td>\n",
       "      <td>40</td>\n",
       "      <td>United-States</td>\n",
       "      <td>0</td>\n",
       "    </tr>\n",
       "    <tr>\n",
       "      <th>1</th>\n",
       "      <td>38</td>\n",
       "      <td>Private</td>\n",
       "      <td>89814</td>\n",
       "      <td>HS-grad</td>\n",
       "      <td>9</td>\n",
       "      <td>Married-civ-spouse</td>\n",
       "      <td>Farming-fishing</td>\n",
       "      <td>Husband</td>\n",
       "      <td>White</td>\n",
       "      <td>1</td>\n",
       "      <td>0</td>\n",
       "      <td>0</td>\n",
       "      <td>50</td>\n",
       "      <td>United-States</td>\n",
       "      <td>0</td>\n",
       "    </tr>\n",
       "    <tr>\n",
       "      <th>2</th>\n",
       "      <td>28</td>\n",
       "      <td>Local-gov</td>\n",
       "      <td>336951</td>\n",
       "      <td>Assoc-acdm</td>\n",
       "      <td>12</td>\n",
       "      <td>Married-civ-spouse</td>\n",
       "      <td>Protective-serv</td>\n",
       "      <td>Husband</td>\n",
       "      <td>White</td>\n",
       "      <td>1</td>\n",
       "      <td>0</td>\n",
       "      <td>0</td>\n",
       "      <td>40</td>\n",
       "      <td>United-States</td>\n",
       "      <td>1</td>\n",
       "    </tr>\n",
       "    <tr>\n",
       "      <th>3</th>\n",
       "      <td>44</td>\n",
       "      <td>Private</td>\n",
       "      <td>160323</td>\n",
       "      <td>Some-college</td>\n",
       "      <td>10</td>\n",
       "      <td>Married-civ-spouse</td>\n",
       "      <td>Machine-op-inspct</td>\n",
       "      <td>Husband</td>\n",
       "      <td>Black</td>\n",
       "      <td>1</td>\n",
       "      <td>7688</td>\n",
       "      <td>0</td>\n",
       "      <td>40</td>\n",
       "      <td>United-States</td>\n",
       "      <td>1</td>\n",
       "    </tr>\n",
       "    <tr>\n",
       "      <th>5</th>\n",
       "      <td>34</td>\n",
       "      <td>Private</td>\n",
       "      <td>198693</td>\n",
       "      <td>10th</td>\n",
       "      <td>6</td>\n",
       "      <td>Never-married</td>\n",
       "      <td>Other-service</td>\n",
       "      <td>Not-in-family</td>\n",
       "      <td>White</td>\n",
       "      <td>1</td>\n",
       "      <td>0</td>\n",
       "      <td>0</td>\n",
       "      <td>30</td>\n",
       "      <td>United-States</td>\n",
       "      <td>0</td>\n",
       "    </tr>\n",
       "  </tbody>\n",
       "</table>\n",
       "</div>"
      ],
      "text/plain": [
       "   age  workclass  fnlwgt     education  educational-num      marital-status  \\\n",
       "0   25    Private  226802          11th                7       Never-married   \n",
       "1   38    Private   89814       HS-grad                9  Married-civ-spouse   \n",
       "2   28  Local-gov  336951    Assoc-acdm               12  Married-civ-spouse   \n",
       "3   44    Private  160323  Some-college               10  Married-civ-spouse   \n",
       "5   34    Private  198693          10th                6       Never-married   \n",
       "\n",
       "          occupation   relationship   race  gender  capital-gain  \\\n",
       "0  Machine-op-inspct      Own-child  Black       1             0   \n",
       "1    Farming-fishing        Husband  White       1             0   \n",
       "2    Protective-serv        Husband  White       1             0   \n",
       "3  Machine-op-inspct        Husband  Black       1          7688   \n",
       "5      Other-service  Not-in-family  White       1             0   \n",
       "\n",
       "   capital-loss  hours-per-week native-country  income  \n",
       "0             0              40  United-States       0  \n",
       "1             0              50  United-States       0  \n",
       "2             0              40  United-States       1  \n",
       "3             0              40  United-States       1  \n",
       "5             0              30  United-States       0  "
      ]
     },
     "execution_count": 2,
     "metadata": {},
     "output_type": "execute_result"
    }
   ],
   "source": [
    "#Reading a CSV file into pandas Dataframe\n",
    "import pandas as pd\n",
    "import numpy as np\n",
    "import math \n",
    "import matplotlib.pyplot as plt\n",
    "import seaborn as sns\n",
    "# Removing missing values\n",
    "missing_values = [\"n/a\", \"na\", \"--\",\"?\"]\n",
    "df = pd.read_csv(\"C:\\\\Users\\\\רוני\\\\OneDrive‏ - Technion\\\\Documents\\\\סמסטר ה\\\\סטטיסטיקה 2\\\\משימת פרויקט 1\\\\adult.csv\",sep=\",\", na_values = missing_values)\n",
    "df=df.dropna()\n",
    "# Converting string columns to binary.\n",
    "df['gender'] = df['gender'].map({'Female': 0, 'Male': 1})\n",
    "df['income'] = df['income'].map({'>50K': 1, '<=50K': 0})\n",
    "# Reducing dataset size to 4000 samples.\n",
    "df.head()"
   ]
  },
  {
   "cell_type": "markdown",
   "metadata": {},
   "source": [
    "# Estimation:\n",
    "### Our question is:\n",
    "\n",
    "#### Is the one who earns more (>50K) necessarily in the different age category from the one who earns less (<=50)?\n",
    "#### X- age Y-income"
   ]
  },
  {
   "cell_type": "markdown",
   "metadata": {},
   "source": [
    "#### 1a.Calculation of Mean of educational_num per each category of an income.  "
   ]
  },
  {
   "cell_type": "code",
   "execution_count": 3,
   "metadata": {},
   "outputs": [
    {
     "name": "stdout",
     "output_type": "stream",
     "text": [
      "          count       mean        std\n",
      "income                               \n",
      "0       34014.0  36.749427  13.564683\n",
      "1       11208.0  44.006067  10.340502\n",
      "----------------------------------------------------------------------------------------------------\n"
     ]
    }
   ],
   "source": [
    "# MLE of the expected value of 'age' according to categories in 'income' \n",
    "EV_MLE_0=df.groupby('income')['age'].mean()[0]\n",
    "EV_MLE_1=df.groupby('income')['age'].mean()[1]\n",
    "\n",
    "z=1.96\n",
    "\n",
    "# SE of the expected value of 'age' according to categories in 'income'\n",
    "df_category0 = df[df['income'] ==0]['age']\n",
    "SE_0=df_category0.sem()\n",
    "df_category1 = df[df['income'] ==1]['age']\n",
    "SE_1=df_category1.sem()\n",
    "print(df.groupby('income')['age'].describe()[['count','mean','std']])\n",
    "print(\"-\"*100)"
   ]
  },
  {
   "cell_type": "markdown",
   "metadata": {},
   "source": [
    "#### b+c.Calculation on CI per each category of an income"
   ]
  },
  {
   "cell_type": "code",
   "execution_count": 4,
   "metadata": {},
   "outputs": [
    {
     "name": "stdout",
     "output_type": "stream",
     "text": [
      "Confidence interval of expected val. age for income =< 50K: 0.29\n",
      "[36.61,36.89]\n",
      "Confidence interval of expected val. age for income > 50K: 0.38\n",
      "[43.81,44.20]\n",
      "----------------------------------------------------------------------------------------------------\n"
     ]
    },
    {
     "data": {
      "image/png": "[encoded data removed]",
      "text/plain": [
       "<Figure size 432x288 with 1 Axes>"
      ]
     },
     "metadata": {
      "needs_background": "light"
     },
     "output_type": "display_data"
    }
   ],
   "source": [
    "#Calc CIs of expected value of age by income category\n",
    "lower_bound_0=EV_MLE_0-z*SE_0\n",
    "upper_bound_0=EV_MLE_0+z*SE_0\n",
    "conf_int_0=upper_bound_0-lower_bound_0\n",
    "\n",
    "lower_bound_1=EV_MLE_1-z*SE_1\n",
    "upper_bound_1=EV_MLE_1+z*SE_1\n",
    "conf_int_1=upper_bound_1-lower_bound_1\n",
    "\n",
    "print(\"Confidence interval of expected val. age for income =< 50K: {:.2f}\".format(conf_int_0))\n",
    "print(\"[{:.2f},{:.2f}]\".format(lower_bound_0,upper_bound_0))\n",
    "\n",
    "print(\"Confidence interval of expected val. age for income > 50K: {:.2f}\".format(conf_int_1))\n",
    "print(\"[{:.2f},{:.2f}]\".format(lower_bound_1,upper_bound_1))\n",
    "print(\"-\"*100)\n",
    "\n",
    "fig, ax = plt.subplots()\n",
    "# Plot CIs and density distribution of age\n",
    "sns.distplot(df[df['income'] ==0]['age'],kde=True, color='violet')\n",
    "sns.distplot(df[df['income'] ==1]['age'],kde=True, color='limegreen')\n",
    "ci_0, = ax.plot((lower_bound_0,upper_bound_0),(0,0), label=\"CI of EV age for income =< 50K\",linewidth=10,color='purple')\n",
    "ci_1, = ax.plot((lower_bound_1,upper_bound_1),(0,0), label=\"CI of EV age for income > 50K\", linewidth=10,color='green')\n",
    "first_legend = ax.legend(handles=[ci_0,ci_1], loc='upper right')\n",
    "plt.title('Density Distribution of age and CIs')\n",
    "plt.show()"
   ]
  },
  {
   "cell_type": "markdown",
   "metadata": {},
   "source": [
    "#### Confidence Intervals of two categories don't overlap. Hence,  we can conclude that the difference is significant.(at the 0.05 level of significance)"
   ]
  },
  {
   "cell_type": "markdown",
   "metadata": {},
   "source": [
    "## Hypothesis testing"
   ]
  },
  {
   "cell_type": "markdown",
   "metadata": {},
   "source": [
    "#### a. Formulation of the null hypothesis and the alternative.\n",
    "\n",
    "H_0: There is no relationship between age and income: EV_MLE_0=EV_MLE_1\n",
    "\n",
    "H_1: There is a relationship between age and income: EV_MLE_0!=EV_MLE_1"
   ]
  },
  {
   "cell_type": "markdown",
   "metadata": {},
   "source": [
    "#### b. Are the assumptions of the T test met? A quality test can be performed qualitatively with help of a histogram.\n",
    "\n",
    "\n",
    "Two-sample t-test assumptions to conduct a valid test:\n",
    "\n",
    "    1.Data values must be independent.\n",
    "    \n",
    "    2.Data in each group must be obtained via a random sample from the population.\n",
    "    \n",
    "    3.Data in each group are normally distributed.\n",
    "    \n",
    "    4.Data values are continuous.\n",
    "    \n",
    "    5.The variances for the two independent groups are equal.\n",
    "    \n",
    "##### The assumptions of the T test are not met. The destribution of the age for category income <=50K is not approximately normal, more like A chi-square.\n",
    "\n"
   ]
  },
  {
   "cell_type": "code",
   "execution_count": 5,
   "metadata": {},
   "outputs": [
    {
     "data": {
      "image/png": "[encoded data removed]",
      "text/plain": [
       "<Figure size 1080x1080 with 2 Axes>"
      ]
     },
     "metadata": {
      "needs_background": "light"
     },
     "output_type": "display_data"
    },
    {
     "name": "stdout",
     "output_type": "stream",
     "text": [
      "              std\n",
      "income           \n",
      "0       13.564683\n",
      "1       10.340502\n"
     ]
    }
   ],
   "source": [
    "fig = plt.figure(figsize=(15, 15))\n",
    "fig.subplots_adjust(hspace=0.4, wspace=0.4)\n",
    "ax = fig.add_subplot(2, 2, 1)\n",
    "plt.title('Density as a function of age in category =<50K')\n",
    "sns.distplot(df[df['income'] ==0]['age'],kde=True, color='violet',label='income <=50')\n",
    "ax = fig.add_subplot(2, 2, 2)\n",
    "sns.distplot(df[df['income'] ==1]['age'],kde=True, color='gold',label='income >50')\n",
    "first_legend = ax.legend(handles=[], loc='upper right')\n",
    "plt.title('Density as a function of age in category >50K')\n",
    "fig.legend()\n",
    "plt.show()\n",
    "print(df.groupby('income')['age'].describe()[['std']])"
   ]
  },
  {
   "cell_type": "markdown",
   "metadata": {},
   "source": [
    "#### As we can see, the data does not distributed normally. Therefore, the assumptions of the T test are not met. "
   ]
  },
  {
   "cell_type": "markdown",
   "metadata": {},
   "source": [
    "#### c. Test the hypothesis using a T test. If the assumptions do not hold, explain whether there is meaning of the results obtained.\n",
    "\n",
    " T= $(\\hat{\\mu_1}-\\hat{\\mu_0}) / ({s_p}*\\sqrt{({1/n_1}+{1/n_2})})$  ${s_p^2}=(({n_1-1}){s_1^2}+({n_2-1}){s_2^2})/({n_1+n_2-2})$\n",
    "\n"
   ]
  },
  {
   "cell_type": "code",
   "execution_count": 6,
   "metadata": {},
   "outputs": [
    {
     "name": "stdout",
     "output_type": "stream",
     "text": [
      "51.88533410790005\n",
      "1.6448873244427278\n"
     ]
    }
   ],
   "source": [
    "import math\n",
    "from scipy import stats\n",
    "n0=df.groupby('income')['age'].count()[0]\n",
    "n1=df.groupby('income')['age'].count()[1]\n",
    "std0=df.groupby('income')['age'].std()[0]\n",
    "std1=df.groupby('income')['age'].std()[1]\n",
    "sp=math.sqrt((((n0-1)*(std0**2))+((n1-1)*(std1**2)))/(n0+n1-2))\n",
    "\n",
    "T=(EV_MLE_1-EV_MLE_0)/(sp*(math.sqrt((1/n1+1/n0))))\n",
    "\n",
    "t_crit = stats.t.ppf(q=0.95, df=n0+n1-2)\n",
    "print (T)\n",
    "print(t_crit)"
   ]
  },
  {
   "cell_type": "markdown",
   "metadata": {},
   "source": [
    "We compare the value of our statistic to the t value. Since value of our statistic > t value, we reject the null hypothesis.(This conclusion also obvious from looking at the CI of the categories).\n",
    "But, because the data does not distributed normally, the test is meanningless.\n",
    "\n"
   ]
  },
  {
   "cell_type": "markdown",
   "metadata": {},
   "source": [
    "#### d. Test the hypothesis using the Wald test.\n",
    "W= $|\\hat{\\theta}-{\\theta_{0}}|/({\\hat{se}}) $\n",
    "\n",
    "W= $(\\hat{\\mu_1}-\\hat{\\mu_0}-0)/(\\sqrt{(\\hat{se_{1}^2}+\\hat{se_{0}^2}}) $"
   ]
  },
  {
   "cell_type": "code",
   "execution_count": 7,
   "metadata": {},
   "outputs": [
    {
     "name": "stdout",
     "output_type": "stream",
     "text": [
      "59.34980443976972\n"
     ]
    }
   ],
   "source": [
    "W= (EV_MLE_1-EV_MLE_0)/math.sqrt(SE_0**2+SE_1**2)\n",
    "print(abs(W))"
   ]
  },
  {
   "cell_type": "markdown",
   "metadata": {},
   "source": [
    "$ {|W|}>{z_{0.05/2}} {\\rightarrow}$ We reject the null hypothesis."
   ]
  },
  {
   "cell_type": "markdown",
   "metadata": {},
   "source": [
    "#### e. Compare the results and the values of the p-values.\n",
    "\n",
    "We rejected the null hypothesis using T test and also by using Wald test.\n",
    "\n",
    "P values: \n",
    "Wald test: ${P(|Z|>|z|)}=1-[{P(Z<|z|)}-{P(Z<-|z|)}]=0$\n",
    "\n",
    "```{toggle} T test: ${P(|T|>|t|)}=1-[{P(T<|t|)}-{P(T<-|t|)}]=0$\n",
    "\n"
   ]
  },
  {
   "cell_type": "code",
   "execution_count": 8,
   "metadata": {},
   "outputs": [
    {
     "name": "stdout",
     "output_type": "stream",
     "text": [
      "T test P_value 0.0\n",
      "Wald test P_value 0.00000000000000000000\n"
     ]
    }
   ],
   "source": [
    "from scipy.stats import norm,t\n",
    "\n",
    "#T test P_value\n",
    "p_val_t=1-(t.cdf(abs(T), df=n0+n1-2)-stats.t.cdf(-abs(T), df=n0+n1-2))\n",
    "\n",
    "#Wald test P_value\n",
    "p_val_w=1-(norm.cdf(abs(W))-norm.cdf(-abs(W)))\n",
    "\n",
    "print(\"T test P_value {:.20}\".format(p_val_t))\n",
    "print(\"Wald test P_value {:.20f}\".format(p_val_w))"
   ]
  },
  {
   "cell_type": "markdown",
   "metadata": {},
   "source": [
    "#### f.\n",
    "We assume normal distribution as asked in the question even though our data distribute chi-square for category income <= 50K and bell shaped (not normal because it only contains positive values) for category > 50K.\n",
    "(we tried different categories in this dataset. They distribute like mixture of gaussians, or has a bell shape but with positive values. The option represented is the closest.)"
   ]
  },
  {
   "cell_type": "code",
   "execution_count": 9,
   "metadata": {},
   "outputs": [
    {
     "data": {
      "image/png": "[encoded data removed]",
      "text/plain": [
       "<Figure size 720x720 with 2 Axes>"
      ]
     },
     "metadata": {
      "needs_background": "light"
     },
     "output_type": "display_data"
    }
   ],
   "source": [
    "fig = plt.figure(figsize=(10, 10))\n",
    "fig.subplots_adjust(hspace=0.4, wspace=0.4)\n",
    "\n",
    "ax = fig.add_subplot(2, 2, 1)\n",
    "sns.distplot(df[df['income'] ==0]['age'],kde=True, color='violet',label='income <=50')\n",
    "plt.title('Density as a function of age in category <=50K')\n",
    "\n",
    "ax = fig.add_subplot(2, 2, 2)\n",
    "sns.distplot(df[df['income'] ==1]['age'],kde=True, color='gold',label='income >50')\n",
    "plt.title('Density as a function of age in category >50K')\n",
    "\n",
    "fig.legend()\n",
    "plt.show()\n"
   ]
  },
  {
   "cell_type": "markdown",
   "metadata": {},
   "source": [
    "MLE assimptotically has normal distribution, hence EV_MLE_0-EV_MLE_1 also assimptotically has normal distribution.\n",
    "While: $\\hat{\\theta_{n}}={\\mu}$, $\\hat{\\theta_{0,n}}=0 $\n",
    "\n",
    "${\\lambda}=2log({L_{n}(\\hat{\\theta_{n}})}/{L_{n}(\\hat{\\theta_{0,n}})})$\n",
    "\n",
    "${\\lambda}=n{\\mu^2}/{\\sigma^2}$ while MLE $\\hat{\\mu}=\\bar{X_1}-\\bar{X_0}, \\hat{\\sigma^2}={\\sigma_0^2}+{\\sigma_1^2}$\n",
    "\n",
    "hence ${\\lambda}=n(\\bar{X_1}-\\bar{X_0})/({\\sigma_0^2}+{\\sigma_1^2})$\n",
    "We will reject the null hypothesis if ${\\lambda}>{\\chi^2_{1,0.05}}$\n"
   ]
  },
  {
   "cell_type": "code",
   "execution_count": 10,
   "metadata": {},
   "outputs": [
    {
     "name": "stdout",
     "output_type": "stream",
     "text": [
      "1127.9813171151332 > 0.003932140000019522, hence we reject the null hypothesis\n"
     ]
    }
   ],
   "source": [
    "from scipy.stats import chi2\n",
    "lambda1=len(df.index)*(EV_MLE_1-EV_MLE_0)/(std0**2+std1**2)\n",
    "chi_quantile=chi2.ppf(0.05, 1)\n",
    "if lambda1>chi_quantile:\n",
    "    print(\"{} > {}, hence we reject the null hypothesis\".format(lambda1,chi_quantile))\n",
    "else:\n",
    "    print(\"{} <= {}, hence we can not reject the null hypothesis\".format(lambda1,chi_quantile))"
   ]
  },
  {
   "cell_type": "markdown",
   "metadata": {},
   "source": [
    "# Different sample sizes"
   ]
  },
  {
   "cell_type": "markdown",
   "metadata": {},
   "source": [
    "#### A. Randomly select samples in sizes 30,50,100,500 from the original data file."
   ]
  },
  {
   "cell_type": "code",
   "execution_count": 11,
   "metadata": {},
   "outputs": [],
   "source": [
    "missing_values = [\"n/a\", \"na\", \"--\",\"?\"]\n",
    "df1 = pd.read_csv(\"C:\\\\Users\\\\רוני\\\\OneDrive‏ - Technion\\\\Documents\\\\סמסטר ה\\\\סטטיסטיקה 2\\\\משימת פרויקט 1\\\\adult.csv\",sep=\",\", na_values = missing_values)\n",
    "df1=df1.dropna()\n",
    "# Converting string columns to binary.\n",
    "df1['gender'] = df1['gender'].map({'Female': 0, 'Male': 1})\n",
    "df1['income'] = df1['income'].map({'>50K': 1, '<=50K': 0})\n",
    "# Sampling data\n",
    "df30=df1.sample(n = 30)\n",
    "df50=df1.sample(n = 50)\n",
    "df100=df1.sample(n = 100)\n",
    "df500=df1.sample(n = 500)"
   ]
  },
  {
   "cell_type": "markdown",
   "metadata": {},
   "source": [
    "#### B. The bigger the number of sumples the smaller the CI for each category. It means we are more accurate, the astimation is better for bigger n. "
   ]
  },
  {
   "cell_type": "code",
   "execution_count": 12,
   "metadata": {},
   "outputs": [],
   "source": [
    "def get_ci(df):\n",
    "    \"\"\"\n",
    "    this function calcs the ci for a certain data set.\n",
    "    \"\"\"\n",
    "\n",
    "    # MLE of the expected value of 'age' according to categories in 'income' \n",
    "    EV_MLE_0=df.groupby('income')['age'].mean()[0]\n",
    "    EV_MLE_1=df.groupby('income')['age'].mean()[1]\n",
    "    z=1.96\n",
    "    # SE of the expected value of 'age' according to categories in 'income'\n",
    "    df_category0 = df[df['income'] ==0]['age']\n",
    "    SE_0=df_category0.sem()\n",
    "    df_category1 = df[df['income'] ==1]['age']\n",
    "    SE_1=df_category1.sem()\n",
    "    #Calc CIs of expected value of age by income category\n",
    "    lower_bound_0=EV_MLE_0-z*SE_0\n",
    "    upper_bound_0=EV_MLE_0+z*SE_0\n",
    "    conf_int_0=upper_bound_0-lower_bound_0\n",
    "    \n",
    "    lower_bound_1=EV_MLE_1-z*SE_1\n",
    "    upper_bound_1=EV_MLE_1+z*SE_1\n",
    "    \n",
    "    conf_int_1=upper_bound_1-lower_bound_1\n",
    "    return {'0':[lower_bound_0,upper_bound_0], '1':[lower_bound_1,upper_bound_1]}"
   ]
  },
  {
   "cell_type": "code",
   "execution_count": 13,
   "metadata": {},
   "outputs": [
    {
     "name": "stdout",
     "output_type": "stream",
     "text": [
      "Sample size = 30\n",
      "Confidence interval of expected val. age for income =< 50K: 14.34\n",
      "Confidence interval of expected val. age for income > 50K: 9.83\n",
      "----------------------------------------------------------------------------------------------------\n",
      "Sample size = 50\n",
      "Confidence interval of expected val. age for income =< 50K: 8.50\n",
      "Confidence interval of expected val. age for income > 50K: 14.86\n",
      "----------------------------------------------------------------------------------------------------\n",
      "Sample size = 100\n",
      "Confidence interval of expected val. age for income =< 50K: 6.45\n",
      "Confidence interval of expected val. age for income > 50K: 6.95\n",
      "----------------------------------------------------------------------------------------------------\n",
      "Sample size = 500\n",
      "Confidence interval of expected val. age for income =< 50K: 2.80\n",
      "Confidence interval of expected val. age for income > 50K: 3.21\n",
      "----------------------------------------------------------------------------------------------------\n",
      "Sample size = 4000\n",
      "Confidence interval of expected val. age for income =< 50K: 0.29\n",
      "Confidence interval of expected val. age for income > 50K: 0.38\n",
      "----------------------------------------------------------------------------------------------------\n"
     ]
    }
   ],
   "source": [
    "for size,df_n in {'30':df30,'50':df50,'100':df100,'500':df500,'4000':df}.items():\n",
    "    print('Sample size = {}'.format(size))\n",
    "    print(\"Confidence interval of expected val. age for income =< 50K: {:.2f}\".format(get_ci(df_n)['0'][1]-get_ci(df_n)['0'][0]))\n",
    "    print(\"Confidence interval of expected val. age for income > 50K: {:.2f}\".format(get_ci(df_n)['1'][1]-get_ci(df_n)['1'][0]))\n",
    "    print(\"-\"*100)\n"
   ]
  },
  {
   "cell_type": "markdown",
   "metadata": {},
   "source": [
    "#### C. We rejected the null hypothesis for different samples sizes while perfirming Wald test.\n",
    "We know, the bigger n the higer the probabilty to reject null hypothesis. Here, we can see that even for small n the null hypotesis can be rejected for a significance level of α = 0.05.\n",
    "Also,  we cant see that ${P_{value}} {\\rightarrow_{n {\\rightarrow}{\\infty}}} 0$"
   ]
  },
  {
   "cell_type": "code",
   "execution_count": 14,
   "metadata": {},
   "outputs": [],
   "source": [
    "def wald_test(df):\n",
    "    \"\"\"\n",
    "    this function calcs the wald test on the data\n",
    "    \"\"\"\n",
    "    # MLE of the expected value of 'age' according to categories in 'income' \n",
    "    EV_MLE_0=df.groupby('income')['age'].mean()[0]\n",
    "    EV_MLE_1=df.groupby('income')['age'].mean()[1]\n",
    "\n",
    "    z=1.96\n",
    "\n",
    "    # SE of the expected value of 'age' according to categories in 'income'\n",
    "    df_category0 = df[df['income'] ==0]['age']\n",
    "    SE_0=df_category0.sem()\n",
    "    df_category1 = df[df['income'] ==1]['age']\n",
    "    SE_1=df_category1.sem()\n",
    "    \n",
    "    W= abs(EV_MLE_1-EV_MLE_0)/math.sqrt(SE_0**2+SE_1**2)\n",
    "    \n",
    "    #Wald test P_value\n",
    "    p_val_w=1-(norm.cdf(abs(W))-norm.cdf(-abs(W)))\n",
    "    return p_val_w\n"
   ]
  },
  {
   "cell_type": "code",
   "execution_count": 15,
   "metadata": {},
   "outputs": [
    {
     "name": "stdout",
     "output_type": "stream",
     "text": [
      "Sample size = 30\n",
      "Wald test P_value 0.2108014883783993\n",
      "Reject the null hypothesis\n",
      "----------------------------------------------------------------------------------------------------\n",
      "Sample size = 50\n",
      "Wald test P_value 0.04271446493726039\n",
      "Reject the null hypothesis\n",
      "----------------------------------------------------------------------------------------------------\n",
      "Sample size = 100\n",
      "Wald test P_value 0.026239660802970466\n",
      "Reject the null hypothesis\n",
      "----------------------------------------------------------------------------------------------------\n",
      "Sample size = 500\n",
      "Wald test P_value 6.116913642273403e-10\n",
      "Reject the null hypothesis\n",
      "----------------------------------------------------------------------------------------------------\n",
      "Sample size = 4000\n",
      "Wald test P_value 0.0\n",
      "Reject the null hypothesis\n",
      "----------------------------------------------------------------------------------------------------\n"
     ]
    }
   ],
   "source": [
    "for size,df_n in {'30':df30,'50':df50,'100':df100,'500':df500,'4000':df}.items():\n",
    "    p_val_w=wald_test(df_n)\n",
    "    print('Sample size = {}'.format(size))\n",
    "    print(\"Wald test P_value {}\".format(p_val_w))\n",
    "    if abs(W)>z:\n",
    "        print ('Reject the null hypothesis')\n",
    "    else:\n",
    "        print(\"The null hypothesis can't be rejected\")\n",
    "        \n",
    "    print(\"-\"*100)\n"
   ]
  },
  {
   "cell_type": "markdown",
   "metadata": {},
   "source": [
    "#### D. Repeat sections 3a-3c 100 times and use graphs and / or tables to describe the distribution.\n",
    "Of the length of the confidence intervals and of the p-values ​​as a function of the sample size. What is the percentage of times\n",
    "That the averages you found in one question are in the confidence gains?"
   ]
  },
  {
   "cell_type": "code",
   "execution_count": 16,
   "metadata": {},
   "outputs": [],
   "source": [
    "iteration=100\n",
    "\n",
    "CI_category0={'30': [], '50':[], '100':[], '500':[]}\n",
    "CI_category1={'30': [], '50':[], '100':[], '500':[]}\n",
    "pval={'30': [], '50':[], '100':[], '500':[]}\n",
    "# ammount of time mean was in CI for category 0\n",
    "mean_in_CI_category_0=0\n",
    "#  ammount of time mean was in CI for category 1\n",
    "mean_in_CI_category_1=0\n",
    "while iteration>0:\n",
    "    iteration-=1\n",
    "    # Sampling data\n",
    "    df30=df1.sample(n = 30)\n",
    "    CI_category0['30'].append(get_ci(df30)['0'][1]-get_ci(df30)['0'][0])\n",
    "    CI_category1['30'].append(get_ci(df30)['1'][1]-get_ci(df30)['1'][0])\n",
    "    if get_ci(df30)['0'][1]>= EV_MLE_0>=get_ci(df30)['0'][0]:\n",
    "        mean_in_CI_category_0+=1\n",
    "    if get_ci(df30)['1'][1]>= EV_MLE_1>=get_ci(df30)['1'][0]:\n",
    "        mean_in_CI_category_1+=1\n",
    "   \n",
    "    pval[\"30\"].append(wald_test(df30))\n",
    "    \n",
    "    df50=df1.sample(n = 50)\n",
    "    CI_category0['50'].append(get_ci(df50)['0'][1]-get_ci(df50)['0'][0])\n",
    "    CI_category1['50'].append(get_ci(df50)['1'][1]-get_ci(df50)['1'][0])\n",
    "    if get_ci(df50)['0'][1]>= EV_MLE_0>=get_ci(df50)['0'][0]:\n",
    "        mean_in_CI_category_0+=1\n",
    "    if get_ci(df50)['1'][1]>= EV_MLE_1>=get_ci(df50)['1'][0]:\n",
    "        mean_in_CI_category_1+=1\n",
    "     \n",
    "    pval[\"50\"].append(wald_test(df50))\n",
    "    \n",
    "    df100=df1.sample(n = 100)\n",
    "    CI_category0['100'].append(get_ci(df100)['0'][1]-get_ci(df100)['0'][0])\n",
    "    CI_category1['100'].append(get_ci(df100)['1'][1]-get_ci(df100)['1'][0])\n",
    "    if get_ci(df100)['0'][1]>= EV_MLE_0>=get_ci(df100)['0'][0]:\n",
    "        mean_in_CI_category_0+=1\n",
    "    if get_ci(df100)['1'][1]>= EV_MLE_1>=get_ci(df100)['1'][0]:\n",
    "        mean_in_CI_category_1+=1\n",
    "    \n",
    "    pval[\"100\"].append(wald_test(df100))\n",
    "    \n",
    "    df500=df1.sample(n = 500)\n",
    "    CI_category0['500'].append(get_ci(df500)['0'][1]-get_ci(df500)['0'][0])\n",
    "    CI_category1['500'].append(get_ci(df500)['1'][1]-get_ci(df500)['1'][0])\n",
    "    if get_ci(df500)['0'][1]>= EV_MLE_0>=get_ci(df500)['0'][0]:\n",
    "        mean_in_CI_category_0+=1\n",
    "    if get_ci(df500)['1'][1]>= EV_MLE_1>=get_ci(df500)['1'][0]:\n",
    "        mean_in_CI_category_1+=1\n",
    "        \n",
    "    pval[\"500\"].append(wald_test(df500))\n",
    "    \n",
    "    "
   ]
  },
  {
   "cell_type": "code",
   "execution_count": 17,
   "metadata": {},
   "outputs": [
    {
     "data": {
      "image/png": "[encoded data removed]",
      "text/plain": [
       "<Figure size 432x288 with 1 Axes>"
      ]
     },
     "metadata": {
      "needs_background": "light"
     },
     "output_type": "display_data"
    },
    {
     "data": {
      "image/png": "[encoded data removed]",
      "text/plain": [
       "<Figure size 432x288 with 1 Axes>"
      ]
     },
     "metadata": {
      "needs_background": "light"
     },
     "output_type": "display_data"
    },
    {
     "data": {
      "image/png": "[encoded data removed]",
      "text/plain": [
       "<Figure size 432x288 with 1 Axes>"
      ]
     },
     "metadata": {
      "needs_background": "light"
     },
     "output_type": "display_data"
    }
   ],
   "source": [
    "# fig = plt.figure(figsize=(25, 25))\n",
    "# fig.subplots_adjust(hspace=0.4, wspace=0.4)\n",
    "for i, size in enumerate(CI_category0):\n",
    "    ax = fig.add_subplot(2, 4, i+1)\n",
    "    sns.distplot(CI_category0[size],kde=True)\n",
    "plt.legend( ['sample size=30','sample size=50','sample size=100','sample size=500'])\n",
    "plt.title(\"Confidence interval Distribution for income =< 50K\")  \n",
    "plt.show()\n",
    "\n",
    "\n",
    "for i, size in enumerate(CI_category1):\n",
    "    ax = fig.add_subplot(2, 4, i+1)\n",
    "    sns.distplot(CI_category1[size],kde=True)\n",
    "plt.title(\"Confidence interval Distribution for income > 50K\")\n",
    "plt.legend( ['sample size=30','sample size=50','sample size=100','sample size=500'])   \n",
    "plt.show()\n",
    "\n",
    "\n",
    "for i, size in enumerate(pval):\n",
    "    ax = fig.add_subplot(2, 4, i+1)\n",
    "    sns.distplot(pval[size],kde=True)\n",
    "\n",
    "plt.legend( ['sample size=30','sample size=50','sample size=100','sample size=500'])\n",
    "plt.title(\"P values Distribution\")\n",
    "\n",
    "plt.ylim([0, 25])\n",
    "plt.show()"
   ]
  },
  {
   "cell_type": "code",
   "execution_count": 18,
   "metadata": {},
   "outputs": [
    {
     "name": "stdout",
     "output_type": "stream",
     "text": [
      "Percentage of times that the mean from Q1 is within confidence interval for category 0 is: 95.25%\n",
      "Percentage of times that the mean from Q1 is within confidence interval for category 1 is: 91.0%\n"
     ]
    }
   ],
   "source": [
    "# percentage of times that the mean from Q1 is within confidence interval for category 0\n",
    "print('Percentage of times that the mean from Q1 is within confidence interval for category 0 is: {}%'.format(mean_in_CI_category_0/4))\n",
    "\n",
    "# percentage of times that the mean from Q1 is within confidence interval for category 1\n",
    "print('Percentage of times that the mean from Q1 is within confidence interval for category 1 is: {}%'.format(mean_in_CI_category_1/4))\n",
    "\n"
   ]
  }
 ],
 "metadata": {
  "kernelspec": {
   "display_name": "Python 3",
   "language": "python",
   "name": "python3"
  },
  "language_info": {
   "codemirror_mode": {
    "name": "ipython",
    "version": 3
   },
   "file_extension": ".py",
   "mimetype": "text/x-python",
   "name": "python",
   "nbconvert_exporter": "python",
   "pygments_lexer": "ipython3",
   "version": "3.8.5"
  }
 },
 "nbformat": 4,
 "nbformat_minor": 4
}
