{
 "cells": [
  {
   "cell_type": "markdown",
   "metadata": {},
   "source": [
    "# Part A - Linear Regression"
   ]
  },
  {
   "cell_type": "markdown",
   "metadata": {},
   "source": [
    "### Section 1:\n",
    "#### Research Question: \n",
    "Are age, gender and education (edication_num) correlated with hours per week?"
   ]
  },
  {
   "cell_type": "markdown",
   "metadata": {},
   "source": [
    "### Section 2:"
   ]
  },
  {
   "cell_type": "code",
   "execution_count": 2,
   "metadata": {},
   "outputs": [
    {
     "data": {
      "text/html": [
       "<div>\n",
       "<style scoped>\n",
       "    .dataframe tbody tr th:only-of-type {\n",
       "        vertical-align: middle;\n",
       "    }\n",
       "\n",
       "    .dataframe tbody tr th {\n",
       "        vertical-align: top;\n",
       "    }\n",
       "\n",
       "    .dataframe thead th {\n",
       "        text-align: right;\n",
       "    }\n",
       "</style>\n",
       "<table border=\"1\" class=\"dataframe\">\n",
       "  <thead>\n",
       "    <tr style=\"text-align: right;\">\n",
       "      <th></th>\n",
       "      <th>age</th>\n",
       "      <th>workclass</th>\n",
       "      <th>fnlwgt</th>\n",
       "      <th>education</th>\n",
       "      <th>educational-num</th>\n",
       "      <th>marital-status</th>\n",
       "      <th>occupation</th>\n",
       "      <th>relationship</th>\n",
       "      <th>race</th>\n",
       "      <th>gender</th>\n",
       "      <th>capital-gain</th>\n",
       "      <th>capital-loss</th>\n",
       "      <th>hours-per-week</th>\n",
       "      <th>native-country</th>\n",
       "      <th>income</th>\n",
       "    </tr>\n",
       "  </thead>\n",
       "  <tbody>\n",
       "    <tr>\n",
       "      <th>38723</th>\n",
       "      <td>23</td>\n",
       "      <td>Private</td>\n",
       "      <td>209955</td>\n",
       "      <td>HS-grad</td>\n",
       "      <td>9</td>\n",
       "      <td>Never-married</td>\n",
       "      <td>Craft-repair</td>\n",
       "      <td>Not-in-family</td>\n",
       "      <td>White</td>\n",
       "      <td>1</td>\n",
       "      <td>0</td>\n",
       "      <td>0</td>\n",
       "      <td>40</td>\n",
       "      <td>United-States</td>\n",
       "      <td>0</td>\n",
       "    </tr>\n",
       "    <tr>\n",
       "      <th>11897</th>\n",
       "      <td>27</td>\n",
       "      <td>Private</td>\n",
       "      <td>106276</td>\n",
       "      <td>HS-grad</td>\n",
       "      <td>9</td>\n",
       "      <td>Never-married</td>\n",
       "      <td>Adm-clerical</td>\n",
       "      <td>Own-child</td>\n",
       "      <td>White</td>\n",
       "      <td>0</td>\n",
       "      <td>0</td>\n",
       "      <td>0</td>\n",
       "      <td>40</td>\n",
       "      <td>United-States</td>\n",
       "      <td>0</td>\n",
       "    </tr>\n",
       "    <tr>\n",
       "      <th>23631</th>\n",
       "      <td>36</td>\n",
       "      <td>Local-gov</td>\n",
       "      <td>217414</td>\n",
       "      <td>Some-college</td>\n",
       "      <td>10</td>\n",
       "      <td>Divorced</td>\n",
       "      <td>Protective-serv</td>\n",
       "      <td>Unmarried</td>\n",
       "      <td>White</td>\n",
       "      <td>1</td>\n",
       "      <td>0</td>\n",
       "      <td>0</td>\n",
       "      <td>55</td>\n",
       "      <td>United-States</td>\n",
       "      <td>0</td>\n",
       "    </tr>\n",
       "    <tr>\n",
       "      <th>35694</th>\n",
       "      <td>23</td>\n",
       "      <td>Private</td>\n",
       "      <td>211527</td>\n",
       "      <td>Some-college</td>\n",
       "      <td>10</td>\n",
       "      <td>Never-married</td>\n",
       "      <td>Handlers-cleaners</td>\n",
       "      <td>Own-child</td>\n",
       "      <td>White</td>\n",
       "      <td>1</td>\n",
       "      <td>0</td>\n",
       "      <td>0</td>\n",
       "      <td>60</td>\n",
       "      <td>United-States</td>\n",
       "      <td>0</td>\n",
       "    </tr>\n",
       "    <tr>\n",
       "      <th>29117</th>\n",
       "      <td>36</td>\n",
       "      <td>Private</td>\n",
       "      <td>231052</td>\n",
       "      <td>HS-grad</td>\n",
       "      <td>9</td>\n",
       "      <td>Separated</td>\n",
       "      <td>Other-service</td>\n",
       "      <td>Unmarried</td>\n",
       "      <td>Black</td>\n",
       "      <td>0</td>\n",
       "      <td>0</td>\n",
       "      <td>0</td>\n",
       "      <td>35</td>\n",
       "      <td>United-States</td>\n",
       "      <td>0</td>\n",
       "    </tr>\n",
       "  </tbody>\n",
       "</table>\n",
       "</div>"
      ],
      "text/plain": [
       "       age  workclass  fnlwgt     education  educational-num marital-status  \\\n",
       "38723   23    Private  209955       HS-grad                9  Never-married   \n",
       "11897   27    Private  106276       HS-grad                9  Never-married   \n",
       "23631   36  Local-gov  217414  Some-college               10       Divorced   \n",
       "35694   23    Private  211527  Some-college               10  Never-married   \n",
       "29117   36    Private  231052       HS-grad                9      Separated   \n",
       "\n",
       "              occupation   relationship   race  gender  capital-gain  \\\n",
       "38723       Craft-repair  Not-in-family  White       1             0   \n",
       "11897       Adm-clerical      Own-child  White       0             0   \n",
       "23631    Protective-serv      Unmarried  White       1             0   \n",
       "35694  Handlers-cleaners      Own-child  White       1             0   \n",
       "29117      Other-service      Unmarried  Black       0             0   \n",
       "\n",
       "       capital-loss  hours-per-week native-country  income  \n",
       "38723             0              40  United-States       0  \n",
       "11897             0              40  United-States       0  \n",
       "23631             0              55  United-States       0  \n",
       "35694             0              60  United-States       0  \n",
       "29117             0              35  United-States       0  "
      ]
     },
     "execution_count": 2,
     "metadata": {},
     "output_type": "execute_result"
    }
   ],
   "source": [
    "# Deprocations of jupyter warnings about sns functions that will be deprocated in the future. (sns.distplot)\n",
    "import warnings\n",
    "warnings.filterwarnings('ignore')\n",
    "\n",
    "#Reading a CSV file into pandas Dataframe\n",
    "import pandas as pd\n",
    "import numpy as np\n",
    "import math \n",
    "import matplotlib.pyplot as plt\n",
    "import random\n",
    "from scipy.stats import f\n",
    "from scipy.stats import t\n",
    "import pprint\n",
    "\n",
    "random.seed(1)\n",
    "# Removing missing values\n",
    "missing_values = [\"n/a\", \"na\", \"--\",\"?\"]\n",
    "df_full = pd.read_csv(\"adult.csv\",sep=\",\", na_values = missing_values)\n",
    "df_full=df_full.dropna()\n",
    "\n",
    "# Converting string columns to binary.\n",
    "df_full['gender'] =df_full['gender'].map({'Female': 0, 'Male': 1})\n",
    "df_full['income'] = df_full['income'].map({'>50K': 1, '<=50K': 0})\n",
    "\n",
    "# Reducing dataset size to 200 samples.\n",
    "df_200_samples=df_full.sample(n = 200)\n",
    "df_200_samples.head()"
   ]
  },
  {
   "cell_type": "markdown",
   "metadata": {},
   "source": [
    "### Section 3- A and B"
   ]
  },
  {
   "cell_type": "markdown",
   "metadata": {},
   "source": [
    "We decided to display the data via histogram and boxplot, because histogram discribes the distribution and the symmetry of the data, while boxplot gives more accurate explanation of the outliers, the statistics. "
   ]
  },
  {
   "cell_type": "markdown",
   "metadata": {},
   "source": [
    "#### Age: \n",
    "There are no missing values. There are outliers in the data (found in range: 70-80 years.)\n",
    "The distribution is not symmetric (has right tail). We can't estimate the distribution of the data."
   ]
  },
  {
   "cell_type": "code",
   "execution_count": 26,
   "metadata": {},
   "outputs": [
    {
     "data": {
      "image/png": "[encoded data removed]",
      "text/plain": [
       "<Figure size 1080x360 with 2 Axes>"
      ]
     },
     "metadata": {
      "needs_background": "light"
     },
     "output_type": "display_data"
    }
   ],
   "source": [
    "# Plot distribution and statistics of features \n",
    "fig = plt.figure(figsize=(15,5))\n",
    "ax1 = fig.add_subplot(121)\n",
    "ax2 = fig.add_subplot(122)\n",
    "df_200_samples.hist(['age'],ax=ax1)\n",
    "df_200_samples.boxplot(['age'],ax=ax2)\n",
    "ax1.set_title('Hist. of Age')\n",
    "ax2.set_title('Box Plot of Age')\n",
    "plt.show()"
   ]
  },
  {
   "cell_type": "markdown",
   "metadata": {},
   "source": [
    "#### Education num: \n",
    "There are no missing values. There are outliers in the data (found in rannge <=2 - equal to 1st-4th and preschool).\n",
    "The distribution is not symmetric (has left tail). We can't estimate the distribution of the data."
   ]
  },
  {
   "cell_type": "code",
   "execution_count": 27,
   "metadata": {},
   "outputs": [
    {
     "data": {
      "image/png": "[encoded data removed]",
      "text/plain": [
       "<Figure size 1080x360 with 2 Axes>"
      ]
     },
     "metadata": {
      "needs_background": "light"
     },
     "output_type": "display_data"
    }
   ],
   "source": [
    "# Plot distribution and statistics of features \n",
    "fig = plt.figure(figsize=(15,5))\n",
    "ax1 = fig.add_subplot(121)\n",
    "ax2 = fig.add_subplot(122)\n",
    "df_200_samples.hist(['educational-num'],ax=ax1)\n",
    "df_200_samples.boxplot(['educational-num'],ax=ax2)\n",
    "ax1.set_title('Hist. of educational-num')\n",
    "ax2.set_title('Box Plot of educational-num')\n",
    "plt.show()"
   ]
  },
  {
   "cell_type": "markdown",
   "metadata": {},
   "source": [
    "#### Gender:\n",
    "There are no missing values. There are no outliers. The data comes from bernoulli distribution. We can't assume symmetry or asymmetry in binary data. "
   ]
  },
  {
   "cell_type": "code",
   "execution_count": 28,
   "metadata": {},
   "outputs": [
    {
     "data": {
      "text/plain": [
       "gender\n",
       "0     53\n",
       "1    147\n",
       "dtype: int64"
      ]
     },
     "execution_count": 28,
     "metadata": {},
     "output_type": "execute_result"
    }
   ],
   "source": [
    "# Distribution of descreete feature - gender\n",
    "df_200_samples.groupby('gender').size()"
   ]
  },
  {
   "cell_type": "markdown",
   "metadata": {},
   "source": [
    "#### Hours-per-week: \n",
    "There are no missing values. There are alot of outliers in the data.\n",
    "The distribution is not symmetric even thought most of the data centered in range 30-40. We assume that the data might come from chi square distribution."
   ]
  },
  {
   "cell_type": "code",
   "execution_count": 29,
   "metadata": {},
   "outputs": [
    {
     "data": {
      "image/png": "[encoded data removed]",
      "text/plain": [
       "<Figure size 1080x360 with 2 Axes>"
      ]
     },
     "metadata": {
      "needs_background": "light"
     },
     "output_type": "display_data"
    }
   ],
   "source": [
    "# Plot distribution and statistics of features \n",
    "fig = plt.figure(figsize=(15,5))\n",
    "ax1 = fig.add_subplot(121)\n",
    "ax2 = fig.add_subplot(122)\n",
    "df_200_samples.hist(['hours-per-week'],ax=ax1)\n",
    "df_200_samples.boxplot(['hours-per-week'],ax=ax2)\n",
    "ax1.set_title('Hist. of hours-per-week')\n",
    "ax2.set_title('Box Plot of hours-per-week')\n",
    "plt.show()"
   ]
  },
  {
   "cell_type": "markdown",
   "metadata": {},
   "source": [
    "### Section 3- C\n",
    "\n",
    "We used scatterplot to check the correlation between Explanatory variables and response  variable, because we can plot the slope and examine the correltaion in better way then from histogram\\boxplot.\n",
    "\n",
    "As we can see Age is non correlated with hours-per-week. The slope (as we can seen from the plot) is close to be 0.\n",
    "Educational-num is weackly\\non correlated with hours-per-week. The slope (as we can seen from the plot) is positive but not close to be 1.\n",
    "\n",
    "We would say Educational-num has more influence of hours-per-week, then age. \n",
    "\n"
   ]
  },
  {
   "cell_type": "code",
   "execution_count": 30,
   "metadata": {},
   "outputs": [
    {
     "data": {
      "image/png": "[encoded data removed]",
      "text/plain": [
       "<Figure size 1440x360 with 2 Axes>"
      ]
     },
     "metadata": {
      "needs_background": "light"
     },
     "output_type": "display_data"
    }
   ],
   "source": [
    "import pandas as pd\n",
    "import seaborn as sns\n",
    "fig = plt.figure(figsize=(20,5))\n",
    "ax1 = fig.add_subplot(121)\n",
    "ax2 = fig.add_subplot(122)\n",
    "sns.regplot(df_200_samples[['age']],df_200_samples[['hours-per-week']],ax=ax1,color='g')\n",
    "sns.regplot(df_200_samples[['educational-num']],df_200_samples[['hours-per-week']],ax=ax2)\n",
    "ax1.set_title('Scatter plot of hours-per-week as a function of age')\n",
    "ax2.set_title('Scatter plot of hours-per-week as a function of educational-num')\n",
    "plt.show()"
   ]
  },
  {
   "cell_type": "markdown",
   "metadata": {},
   "source": [
    "### Section 3- D"
   ]
  },
  {
   "cell_type": "code",
   "execution_count": 31,
   "metadata": {},
   "outputs": [
    {
     "data": {
      "image/png": "[encoded data removed]",
      "text/plain": [
       "<Figure size 432x288 with 1 Axes>"
      ]
     },
     "metadata": {
      "needs_background": "light"
     },
     "output_type": "display_data"
    }
   ],
   "source": [
    "# Work Hours per Week depending on gender.\n",
    "import seaborn as sns\n",
    "sns.boxenplot(x='gender',y='hours-per-week',data=df_200_samples)\n",
    "plt.title(\"Work Hours per Week\")\n",
    "plt.show()"
   ]
  },
  {
   "cell_type": "markdown",
   "metadata": {},
   "source": [
    "### Section 4"
   ]
  },
  {
   "cell_type": "code",
   "execution_count": 9,
   "metadata": {},
   "outputs": [],
   "source": [
    "def redner_df(df):\n",
    "    df['aux_columns_of_ones']= [1]*df.shape[0]\n",
    "    df = df[['aux_columns_of_ones','gender','age','educational-num','hours-per-week']]\n",
    "    return df\n",
    "\n",
    "def create_targets_and_lables(df_data):\n",
    "    X=df_data.iloc[:, 0:df_data.shape[1]-1].values\n",
    "    Y=df_data.iloc[:, df_data.shape[1]-1:].values\n",
    "    return X,Y\n",
    "\n",
    "def estimate_beta(df_data):\n",
    "    X,Y =create_targets_and_lables(df_data)\n",
    "    beta_est=((np.linalg.inv(X.T@X))@X.T)@Y\n",
    "    return beta_est"
   ]
  },
  {
   "cell_type": "code",
   "execution_count": 33,
   "metadata": {},
   "outputs": [
    {
     "name": "stdout",
     "output_type": "stream",
     "text": [
      "[[24.42725748]\n",
      " [ 8.75262566]\n",
      " [ 0.06123245]\n",
      " [ 0.79190876]]\n"
     ]
    }
   ],
   "source": [
    "df_full=redner_df(df_full)\n",
    "df_200_samples=redner_df(df_200_samples)\n",
    "\n",
    "beta_est_200_samples=estimate_beta(df_200_samples)\n",
    "print(beta_est_200_samples)"
   ]
  },
  {
   "cell_type": "markdown",
   "metadata": {},
   "source": [
    "The result is consistent with the conclusion from the section 3.c). educational-num has more influence of the hours-per-week, then age.\n",
    "But, gender effects hours-per-week the most.\n",
    "\n",
    "Increase in one unit in <b>age</b> increases hours-per-week in 0.0344\n",
    "\n",
    "Increase in one unit in <b>educational-num</b> increases hours-per-week in 1.0261\n",
    "\n",
    "Increase in one unit in <b>gender</b> increases hours-per-week in 9.211"
   ]
  },
  {
   "cell_type": "markdown",
   "metadata": {},
   "source": [
    "### Section 5"
   ]
  },
  {
   "cell_type": "code",
   "execution_count": 10,
   "metadata": {},
   "outputs": [],
   "source": [
    "def create_anova(df_data,beta_est):\n",
    "    X,Y=create_targets_and_lables(df_data)\n",
    "\n",
    "    #Calc values from ANOVA table\n",
    "    SS_res= sum(np.square(Y-X@beta_est))[0]\n",
    "    SS_reg=sum(np.square(X@beta_est-np.mean(Y)))[0]\n",
    "    SS_tot=SS_reg+SS_res\n",
    "    deg_of_freedom=[X.shape[1]-1, X.shape[0]-X.shape[1],X.shape[0]-1]\n",
    "    MS_reg=SS_reg/deg_of_freedom[0]\n",
    "    MS_res=SS_res/deg_of_freedom[1]\n",
    "    F=MS_reg/MS_res\n",
    "\n",
    "    #Display ANOVA\n",
    "    anova={'source_of_variation':['Reg','Res','Total'],'ss': [SS_reg,SS_res,SS_tot],'df':deg_of_freedom,'MS': [MS_reg,MS_res,''], 'F':[F,'',''] }\n",
    "    ANOVA_df= pd.DataFrame.from_dict(anova)\n",
    "    ANOVA_df.set_index('source_of_variation')\n",
    "    print(ANOVA_df)\n",
    "    print('-'*100)\n",
    "    \n",
    "    #calc R^2 and R^2_adj\n",
    "    R_square=1-SS_res/SS_tot\n",
    "    R_square_adj=1-MS_res/(MS_res+MS_reg)\n",
    "    print('R^2 is: {}'.format(R_square))\n",
    "    print('R^2_adj is: {}'.format(R_square_adj))\n",
    "    print('-'*100)\n",
    "    \n",
    "    # Perform F test\n",
    "    if F>f.ppf([1-0.05], X.shape[1]-1, X.shape[0]-X.shape[1]):\n",
    "        print('Reject H0 according to F test, while F={}'.format(F))\n",
    "    else:\n",
    "        print('H0 cant be rejected')\n",
    "    return SS_res,SS_reg,SS_tot,MS_reg,MS_res,F\n",
    "        "
   ]
  },
  {
   "cell_type": "code",
   "execution_count": 35,
   "metadata": {},
   "outputs": [
    {
     "name": "stdout",
     "output_type": "stream",
     "text": [
      "  source_of_variation            ss   df       MS        F\n",
      "0                 Reg   4306.208188    3   1435.4  11.1388\n",
      "1                 Res  25257.546812  196  128.865         \n",
      "2               Total  29563.755000  199                  \n",
      "----------------------------------------------------------------------------------------------------\n",
      "R^2 is: 0.14565836404143861\n",
      "R^2_adj is: 0.9176195804155916\n",
      "----------------------------------------------------------------------------------------------------\n",
      "Reject H0 according to F test, while F=11.138806831098771\n"
     ]
    }
   ],
   "source": [
    "SS_res,SS_reg,SS_tot,MS_reg,MS_res,F=create_anova(df_200_samples,beta_est_200_samples)"
   ]
  },
  {
   "cell_type": "markdown",
   "metadata": {},
   "source": [
    "### Section 6"
   ]
  },
  {
   "cell_type": "code",
   "execution_count": 36,
   "metadata": {
    "scrolled": true
   },
   "outputs": [
    {
     "name": "stdout",
     "output_type": "stream",
     "text": [
      "CI per beta\n",
      "{'beta_0': [array([16.91093932]), array([31.94357565])],\n",
      " 'beta_1': [array([5.15120266]), array([12.35404866])],\n",
      " 'beta_2': [array([-0.05773317]), array([0.18019808])],\n",
      " 'beta_3': [array([0.16087387]), array([1.42294364])]}\n"
     ]
    }
   ],
   "source": [
    "#Calculate confidence interval for betas from dataset with 200 samples.\n",
    "X,Y=create_targets_and_lables(df_200_samples)\n",
    "\n",
    "C=np.linalg.inv(X.T@X)\n",
    "var=MS_res*C\n",
    "CI={}\n",
    "t_quantile=t.ppf(1-0.05/2, X.shape[0]-X.shape[1])\n",
    "for i,beta in enumerate(beta_est_200_samples):\n",
    "    CI[\"beta_{}\".format(i)]=[beta-t_quantile*math.sqrt(var[i][i]),beta+t_quantile*math.sqrt(var[i][i])]\n",
    "    \n",
    "print('CI per beta')\n",
    "pprint.pprint(CI)    "
   ]
  },
  {
   "cell_type": "code",
   "execution_count": 37,
   "metadata": {},
   "outputs": [
    {
     "name": "stdout",
     "output_type": "stream",
     "text": [
      "[[27.53193839]\n",
      " [ 5.75608024]\n",
      " [ 0.07104689]\n",
      " [ 0.67023432]]\n"
     ]
    }
   ],
   "source": [
    "beta_origin=estimate_beta(df_full)\n",
    "print(beta_origin)"
   ]
  },
  {
   "cell_type": "code",
   "execution_count": 38,
   "metadata": {},
   "outputs": [
    {
     "name": "stdout",
     "output_type": "stream",
     "text": [
      "beta_0 = [27.53193839] is in CI =[array([16.91093932]), array([31.94357565])]\n",
      "beta_1 = [5.75608024] is in CI =[array([5.15120266]), array([12.35404866])]\n",
      "beta_2 = [0.07104689] is in CI =[array([-0.05773317]), array([0.18019808])]\n",
      "beta_3 = [0.67023432] is in CI =[array([0.16087387]), array([1.42294364])]\n"
     ]
    }
   ],
   "source": [
    "for i,beta in enumerate(beta_origin):\n",
    "    lower_bound=CI[\"beta_{}\".format(i)][0]\n",
    "    upper_bound=CI[\"beta_{}\".format(i)][1]\n",
    "    if lower_bound<=beta<=upper_bound:\n",
    "        print (\"beta_{} = {} is in CI ={}\".format(i,beta,CI[\"beta_{}\".format(i)]))\n",
    "    else:\n",
    "        print (\"beta_{} = {} not in CI ={}\".format(i,beta,CI[\"beta_{}\".format(i)]))"
   ]
  },
  {
   "cell_type": "markdown",
   "metadata": {},
   "source": [
    "### Section 7 - to check"
   ]
  },
  {
   "cell_type": "markdown",
   "metadata": {},
   "source": [
    "H0: all betas equal to zero\n",
    "\n",
    "H1: all betas unequal zero\n",
    "\n",
    "We'll use F statistics. Reject H0 of $F>{F_{(1-\\alpha),(p,n-p)}}$"
   ]
  },
  {
   "cell_type": "code",
   "execution_count": 39,
   "metadata": {},
   "outputs": [
    {
     "name": "stdout",
     "output_type": "stream",
     "text": [
      "  source_of_variation            ss   df       MS        F\n",
      "0                 Reg   4306.208188    3   1435.4  11.1388\n",
      "1                 Res  25257.546812  196  128.865         \n",
      "2               Total  29563.755000  199                  \n",
      "----------------------------------------------------------------------------------------------------\n",
      "R^2 is: 0.14565836404143861\n",
      "R^2_adj is: 0.9176195804155916\n",
      "----------------------------------------------------------------------------------------------------\n",
      "Reject H0 according to F test, while F=11.138806831098771\n"
     ]
    }
   ],
   "source": [
    "# Perform F test\n",
    "SS_res,SS_reg,SS_tot,MS_reg,MS_res,F=create_anova(df_200_samples,beta_est_200_samples)"
   ]
  },
  {
   "cell_type": "markdown",
   "metadata": {},
   "source": [
    "### Section 8"
   ]
  },
  {
   "cell_type": "code",
   "execution_count": 40,
   "metadata": {},
   "outputs": [
    {
     "data": {
      "image/png": "[encoded data removed]",
      "text/plain": [
       "<Figure size 1440x360 with 2 Axes>"
      ]
     },
     "metadata": {
      "needs_background": "light"
     },
     "output_type": "display_data"
    }
   ],
   "source": [
    "X,Y=create_targets_and_lables(df_200_samples)\n",
    "beta_est_200_samples=estimate_beta(df_200_samples)\n",
    "\n",
    "fig = plt.figure(figsize=(20,5))\n",
    "ax1 = fig.add_subplot(121)\n",
    "ax2 = fig.add_subplot(122)\n",
    "sns.regplot(X@beta_est_200_samples,Y-X@beta_est_200_samples,ax=ax1)\n",
    "ax2.hist(Y-X@beta_est_200_samples)\n",
    "ax1.set_title('Scatter plot of resuduals as a function of estimated Y')\n",
    "ax1.set(xlabel='estimation', ylabel='residual')\n",
    "ax2.set_title('Histogram of resuduals')\n",
    "plt.show()"
   ]
  },
  {
   "cell_type": "markdown",
   "metadata": {},
   "source": [
    "##### Linear assumption doesnt hold. The SD is the same all across the plot, because the variables are homoscedastic and unbiased.It is likely that the noise has normal distribution."
   ]
  },
  {
   "cell_type": "markdown",
   "metadata": {},
   "source": [
    "### Section 9- a"
   ]
  },
  {
   "cell_type": "code",
   "execution_count": 41,
   "metadata": {},
   "outputs": [],
   "source": [
    "# Substruct from full data the 200 samples from previous sections.\n",
    "df_without_sub_sample=df_full.drop(df_200_samples.index)\n",
    "df_1000_samples=df_without_sub_sample.sample(n = 1000)\n",
    "X_new,Y_new=create_targets_and_lables(df_1000_samples)\n",
    "\n",
    "Y_pred=X_new@beta_est_200_samples"
   ]
  },
  {
   "cell_type": "markdown",
   "metadata": {},
   "source": [
    "### Section 9- b+c"
   ]
  },
  {
   "cell_type": "code",
   "execution_count": 42,
   "metadata": {},
   "outputs": [
    {
     "name": "stdout",
     "output_type": "stream",
     "text": [
      "Significance level = 93.5%\n"
     ]
    }
   ],
   "source": [
    "from scipy.stats import norm\n",
    "\n",
    "#Calculate PI for each predicted y.\n",
    "z=norm.ppf(1-0.05/2)\n",
    "C=np.linalg.inv(X_new.T@X_new)\n",
    "PI={}\n",
    "num_of_y_in_PI=0\n",
    "for i,y_pred in enumerate(Y_pred): \n",
    "    var=MS_res*(1+X_new[i].T@C@X_new[i])\n",
    "    PI[i]=[y_pred-z*math.sqrt(var),y_pred+z*math.sqrt(var)]\n",
    "    if y_pred-z*math.sqrt(var)<=Y_new[i]<=y_pred+z*math.sqrt(var):\n",
    "        num_of_y_in_PI+=1\n",
    "sig_level=(num_of_y_in_PI/len(Y_new))*100\n",
    "print('Significance level = {}%'.format(sig_level))"
   ]
  },
  {
   "cell_type": "markdown",
   "metadata": {},
   "source": [
    "##### By definition of confidence interval,  if we perform a large number of samples, the percentage of samples for which the section to be calculated will include the parameter (Y) is equal to the confidence level (95% for alpha=5%). So we expect SI to be close to 95%.\n"
   ]
  },
  {
   "cell_type": "markdown",
   "metadata": {},
   "source": [
    "### Section 10"
   ]
  },
  {
   "cell_type": "code",
   "execution_count": 43,
   "metadata": {},
   "outputs": [
    {
     "data": {
      "text/html": [
       "<div>\n",
       "<style scoped>\n",
       "    .dataframe tbody tr th:only-of-type {\n",
       "        vertical-align: middle;\n",
       "    }\n",
       "\n",
       "    .dataframe tbody tr th {\n",
       "        vertical-align: top;\n",
       "    }\n",
       "\n",
       "    .dataframe thead th {\n",
       "        text-align: right;\n",
       "    }\n",
       "</style>\n",
       "<table border=\"1\" class=\"dataframe\">\n",
       "  <thead>\n",
       "    <tr style=\"text-align: right;\">\n",
       "      <th></th>\n",
       "      <th>aux_columns_of_ones</th>\n",
       "      <th>Z12</th>\n",
       "      <th>Z13</th>\n",
       "      <th>Z23</th>\n",
       "      <th>gender</th>\n",
       "      <th>age</th>\n",
       "      <th>educational-num</th>\n",
       "      <th>hours-per-week</th>\n",
       "    </tr>\n",
       "  </thead>\n",
       "  <tbody>\n",
       "    <tr>\n",
       "      <th>13105</th>\n",
       "      <td>1</td>\n",
       "      <td>68</td>\n",
       "      <td>14</td>\n",
       "      <td>952</td>\n",
       "      <td>1</td>\n",
       "      <td>68</td>\n",
       "      <td>14</td>\n",
       "      <td>45</td>\n",
       "    </tr>\n",
       "    <tr>\n",
       "      <th>41735</th>\n",
       "      <td>1</td>\n",
       "      <td>54</td>\n",
       "      <td>6</td>\n",
       "      <td>324</td>\n",
       "      <td>1</td>\n",
       "      <td>54</td>\n",
       "      <td>6</td>\n",
       "      <td>40</td>\n",
       "    </tr>\n",
       "    <tr>\n",
       "      <th>14428</th>\n",
       "      <td>1</td>\n",
       "      <td>0</td>\n",
       "      <td>0</td>\n",
       "      <td>460</td>\n",
       "      <td>0</td>\n",
       "      <td>46</td>\n",
       "      <td>10</td>\n",
       "      <td>40</td>\n",
       "    </tr>\n",
       "    <tr>\n",
       "      <th>48290</th>\n",
       "      <td>1</td>\n",
       "      <td>43</td>\n",
       "      <td>14</td>\n",
       "      <td>602</td>\n",
       "      <td>1</td>\n",
       "      <td>43</td>\n",
       "      <td>14</td>\n",
       "      <td>55</td>\n",
       "    </tr>\n",
       "    <tr>\n",
       "      <th>7394</th>\n",
       "      <td>1</td>\n",
       "      <td>27</td>\n",
       "      <td>12</td>\n",
       "      <td>324</td>\n",
       "      <td>1</td>\n",
       "      <td>27</td>\n",
       "      <td>12</td>\n",
       "      <td>40</td>\n",
       "    </tr>\n",
       "  </tbody>\n",
       "</table>\n",
       "</div>"
      ],
      "text/plain": [
       "       aux_columns_of_ones  Z12  Z13  Z23  gender  age  educational-num  \\\n",
       "13105                    1   68   14  952       1   68               14   \n",
       "41735                    1   54    6  324       1   54                6   \n",
       "14428                    1    0    0  460       0   46               10   \n",
       "48290                    1   43   14  602       1   43               14   \n",
       "7394                     1   27   12  324       1   27               12   \n",
       "\n",
       "       hours-per-week  \n",
       "13105              45  \n",
       "41735              40  \n",
       "14428              40  \n",
       "48290              55  \n",
       "7394               40  "
      ]
     },
     "execution_count": 43,
     "metadata": {},
     "output_type": "execute_result"
    }
   ],
   "source": [
    "df_model2=df_200_samples.copy(deep=False)\n",
    "\n",
    "df_model2['Z12']= df_model2['gender']*df_model2['age']\n",
    "df_model2['Z13']= df_model2['gender']*df_model2['educational-num']\n",
    "df_model2['Z23']= df_model2['age']*df_model2['educational-num']\n",
    "df_model2 = df_model2[['aux_columns_of_ones','Z12','Z13','Z23','gender','age','educational-num','hours-per-week']]\n",
    "\n",
    "df_model2.head()"
   ]
  },
  {
   "cell_type": "code",
   "execution_count": 44,
   "metadata": {},
   "outputs": [],
   "source": [
    "X_2,Y_2=create_targets_and_lables(df_model2)\n",
    "X_1,Y_1=create_targets_and_lables(df_200_samples)\n",
    "\n",
    "beta_est_2=estimate_beta(df_model2)\n",
    "beta_est_1=estimate_beta(df_200_samples)\n",
    "\n",
    "Y_pred_2=X_2@beta_est_2"
   ]
  },
  {
   "cell_type": "code",
   "execution_count": 45,
   "metadata": {},
   "outputs": [
    {
     "name": "stdout",
     "output_type": "stream",
     "text": [
      "  source_of_variation            ss   df       MS        F\n",
      "0                 Reg   4306.208188    3   1435.4  11.1388\n",
      "1                 Res  25257.546812  196  128.865         \n",
      "2               Total  29563.755000  199                  \n",
      "----------------------------------------------------------------------------------------------------\n",
      "R^2 is: 0.14565836404143861\n",
      "R^2_adj is: 0.9176195804155916\n",
      "----------------------------------------------------------------------------------------------------\n",
      "Reject H0 according to F test, while F=11.138806831098771\n",
      "  source_of_variation            ss   df       MS        F\n",
      "0                 Reg   4721.929671    6  786.988  6.11423\n",
      "1                 Res  24841.825329  193  128.714         \n",
      "2               Total  29563.755000  199                  \n",
      "----------------------------------------------------------------------------------------------------\n",
      "R^2 is: 0.15972022738705804\n",
      "R^2_adj is: 0.8594367329789866\n",
      "----------------------------------------------------------------------------------------------------\n",
      "Reject H0 according to F test, while F=6.114234189295741\n"
     ]
    }
   ],
   "source": [
    "SS_res_1,SS_reg_1,SS_tot_1,MS_reg_1,MS_res_1,F_1=create_anova(df_200_samples,beta_est_1)\n",
    "SS_res_2,SS_reg_2,SS_tot_2,MS_reg_2,MS_res_2,F_2=create_anova(df_model2,beta_est_2)"
   ]
  },
  {
   "cell_type": "markdown",
   "metadata": {},
   "source": [
    "##### Mallow's Cp to choose model"
   ]
  },
  {
   "cell_type": "code",
   "execution_count": 46,
   "metadata": {},
   "outputs": [
    {
     "name": "stdout",
     "output_type": "stream",
     "text": [
      "103943.39128107339\n",
      "203529.8286242738\n",
      "Model 1 is better\n"
     ]
    }
   ],
   "source": [
    "Cp1=SS_reg+2*(X_1.shape[1]-1)*((MS_res_1)**2)\n",
    "Cp2=SS_reg_2+2*(X_2.shape[1]-1)*((MS_res_2)**2)\n",
    "\n",
    "print(Cp1)\n",
    "print(Cp2)\n",
    "\n",
    "if Cp1>Cp2:\n",
    "    print('Model 2 (with interactions) is better')\n",
    "if Cp1<=Cp2:\n",
    "    print('Model 1 is better')\n"
   ]
  },
  {
   "cell_type": "code",
   "execution_count": 47,
   "metadata": {},
   "outputs": [
    {
     "name": "stdout",
     "output_type": "stream",
     "text": [
      "-1159.3013151057191\n",
      "-1162.0561957108494\n",
      "Model 1 is better\n"
     ]
    }
   ],
   "source": [
    "def get_AIC(beta,X,Y,MSE):\n",
    "    log_likelihood=-(X.shape[0]/2)*math.log(2*math.pi)-X.shape[0]*math.log(MSE)\n",
    "    last_part_of_eq=0\n",
    "    for x,y in zip(X,Y):\n",
    "        last_part_of_eq += (y-beta.T@x)**2\n",
    "    log_likelihood=log_likelihood-last_part_of_eq/(2*(MSE**2))\n",
    "    aic=log_likelihood-(X.shape[1]-1)\n",
    "    return aic\n",
    "\n",
    "aic2=get_AIC(beta_est_2,X_2,Y_2,MS_res_2)[0]\n",
    "aic1=get_AIC(beta_est_1,X_1,Y_1,MS_res_1)[0]\n",
    "\n",
    "print(aic1)\n",
    "print(aic2)\n",
    "\n",
    "if aic1<aic2:\n",
    "    print('Model 2 (with interactions) is better')\n",
    "if aic1>=aic2:\n",
    "    print('Model 1 is better')"
   ]
  },
  {
   "cell_type": "markdown",
   "metadata": {},
   "source": [
    "##### Model 1 is preffered according to AIC and Mallow's Cp, the result is consistent with the lemma we proved in HW5"
   ]
  },
  {
   "cell_type": "markdown",
   "metadata": {},
   "source": [
    "# Part B - Logistic Regression"
   ]
  },
  {
   "cell_type": "markdown",
   "metadata": {},
   "source": [
    "### Section 1:\n",
    "#### Research Question: \n",
    "Are age, gender and education (edication_num) correlated with income?"
   ]
  },
  {
   "cell_type": "markdown",
   "metadata": {},
   "source": [
    "### Section 2:"
   ]
  },
  {
   "cell_type": "code",
   "execution_count": 72,
   "metadata": {},
   "outputs": [
    {
     "data": {
      "text/html": [
       "<div>\n",
       "<style scoped>\n",
       "    .dataframe tbody tr th:only-of-type {\n",
       "        vertical-align: middle;\n",
       "    }\n",
       "\n",
       "    .dataframe tbody tr th {\n",
       "        vertical-align: top;\n",
       "    }\n",
       "\n",
       "    .dataframe thead th {\n",
       "        text-align: right;\n",
       "    }\n",
       "</style>\n",
       "<table border=\"1\" class=\"dataframe\">\n",
       "  <thead>\n",
       "    <tr style=\"text-align: right;\">\n",
       "      <th></th>\n",
       "      <th>age</th>\n",
       "      <th>workclass</th>\n",
       "      <th>fnlwgt</th>\n",
       "      <th>education</th>\n",
       "      <th>educational-num</th>\n",
       "      <th>marital-status</th>\n",
       "      <th>occupation</th>\n",
       "      <th>relationship</th>\n",
       "      <th>race</th>\n",
       "      <th>gender</th>\n",
       "      <th>capital-gain</th>\n",
       "      <th>capital-loss</th>\n",
       "      <th>hours-per-week</th>\n",
       "      <th>native-country</th>\n",
       "      <th>income</th>\n",
       "    </tr>\n",
       "  </thead>\n",
       "  <tbody>\n",
       "    <tr>\n",
       "      <th>44688</th>\n",
       "      <td>53</td>\n",
       "      <td>Private</td>\n",
       "      <td>95540</td>\n",
       "      <td>Some-college</td>\n",
       "      <td>10</td>\n",
       "      <td>Divorced</td>\n",
       "      <td>Adm-clerical</td>\n",
       "      <td>Unmarried</td>\n",
       "      <td>White</td>\n",
       "      <td>0</td>\n",
       "      <td>1471</td>\n",
       "      <td>0</td>\n",
       "      <td>40</td>\n",
       "      <td>United-States</td>\n",
       "      <td>0</td>\n",
       "    </tr>\n",
       "    <tr>\n",
       "      <th>33521</th>\n",
       "      <td>52</td>\n",
       "      <td>Private</td>\n",
       "      <td>180142</td>\n",
       "      <td>Masters</td>\n",
       "      <td>14</td>\n",
       "      <td>Married-civ-spouse</td>\n",
       "      <td>Tech-support</td>\n",
       "      <td>Husband</td>\n",
       "      <td>White</td>\n",
       "      <td>1</td>\n",
       "      <td>0</td>\n",
       "      <td>0</td>\n",
       "      <td>45</td>\n",
       "      <td>United-States</td>\n",
       "      <td>0</td>\n",
       "    </tr>\n",
       "    <tr>\n",
       "      <th>39402</th>\n",
       "      <td>23</td>\n",
       "      <td>Private</td>\n",
       "      <td>105617</td>\n",
       "      <td>9th</td>\n",
       "      <td>5</td>\n",
       "      <td>Never-married</td>\n",
       "      <td>Transport-moving</td>\n",
       "      <td>Own-child</td>\n",
       "      <td>White</td>\n",
       "      <td>1</td>\n",
       "      <td>0</td>\n",
       "      <td>0</td>\n",
       "      <td>40</td>\n",
       "      <td>United-States</td>\n",
       "      <td>0</td>\n",
       "    </tr>\n",
       "    <tr>\n",
       "      <th>42649</th>\n",
       "      <td>34</td>\n",
       "      <td>Private</td>\n",
       "      <td>381153</td>\n",
       "      <td>HS-grad</td>\n",
       "      <td>9</td>\n",
       "      <td>Married-civ-spouse</td>\n",
       "      <td>Exec-managerial</td>\n",
       "      <td>Husband</td>\n",
       "      <td>White</td>\n",
       "      <td>1</td>\n",
       "      <td>0</td>\n",
       "      <td>0</td>\n",
       "      <td>40</td>\n",
       "      <td>United-States</td>\n",
       "      <td>1</td>\n",
       "    </tr>\n",
       "    <tr>\n",
       "      <th>37502</th>\n",
       "      <td>47</td>\n",
       "      <td>Self-emp-not-inc</td>\n",
       "      <td>158451</td>\n",
       "      <td>Some-college</td>\n",
       "      <td>10</td>\n",
       "      <td>Divorced</td>\n",
       "      <td>Other-service</td>\n",
       "      <td>Not-in-family</td>\n",
       "      <td>White</td>\n",
       "      <td>0</td>\n",
       "      <td>0</td>\n",
       "      <td>0</td>\n",
       "      <td>45</td>\n",
       "      <td>United-States</td>\n",
       "      <td>0</td>\n",
       "    </tr>\n",
       "  </tbody>\n",
       "</table>\n",
       "</div>"
      ],
      "text/plain": [
       "       age         workclass  fnlwgt     education  educational-num  \\\n",
       "44688   53           Private   95540  Some-college               10   \n",
       "33521   52           Private  180142       Masters               14   \n",
       "39402   23           Private  105617           9th                5   \n",
       "42649   34           Private  381153       HS-grad                9   \n",
       "37502   47  Self-emp-not-inc  158451  Some-college               10   \n",
       "\n",
       "           marital-status        occupation   relationship   race  gender  \\\n",
       "44688            Divorced      Adm-clerical      Unmarried  White       0   \n",
       "33521  Married-civ-spouse      Tech-support        Husband  White       1   \n",
       "39402       Never-married  Transport-moving      Own-child  White       1   \n",
       "42649  Married-civ-spouse   Exec-managerial        Husband  White       1   \n",
       "37502            Divorced     Other-service  Not-in-family  White       0   \n",
       "\n",
       "       capital-gain  capital-loss  hours-per-week native-country  income  \n",
       "44688          1471             0              40  United-States       0  \n",
       "33521             0             0              45  United-States       0  \n",
       "39402             0             0              40  United-States       0  \n",
       "42649             0             0              40  United-States       1  \n",
       "37502             0             0              45  United-States       0  "
      ]
     },
     "execution_count": 72,
     "metadata": {},
     "output_type": "execute_result"
    }
   ],
   "source": [
    "# Removing missing values\n",
    "missing_values = [\"n/a\", \"na\", \"--\",\"?\"]\n",
    "df_full = pd.read_csv(\"adult.csv\",sep=\",\", na_values = missing_values)\n",
    "df_full=df_full.dropna()\n",
    "\n",
    "# Converting string columns to binary.\n",
    "df_full['gender'] =df_full['gender'].map({'Female': 0, 'Male': 1})\n",
    "df_full['income'] = df_full['income'].map({'>50K': 1, '<=50K': 0})\n",
    "\n",
    "# Reducing dataset size to 200 samples.\n",
    "df_200_samples=df_full.sample(n = 200)\n",
    "df_200_samples.head()"
   ]
  },
  {
   "cell_type": "markdown",
   "metadata": {},
   "source": [
    "### Section 3- A and B"
   ]
  },
  {
   "cell_type": "markdown",
   "metadata": {},
   "source": [
    "All the variables except income described at part a of the exercise."
   ]
  },
  {
   "cell_type": "markdown",
   "metadata": {},
   "source": [
    "#### Income:\n",
    "There are no missing values. There are no outliers. We can't assume symmetry or asymmetry in binary data. "
   ]
  },
  {
   "cell_type": "code",
   "execution_count": 73,
   "metadata": {},
   "outputs": [
    {
     "data": {
      "text/plain": [
       "income\n",
       "0    157\n",
       "1     43\n",
       "dtype: int64"
      ]
     },
     "execution_count": 73,
     "metadata": {},
     "output_type": "execute_result"
    }
   ],
   "source": [
    "# Distribution of descreete feature - gender\n",
    "df_200_samples.groupby('income').size()"
   ]
  },
  {
   "cell_type": "markdown",
   "metadata": {},
   "source": [
    "### Section 4\n",
    "We used scatterplot to check the correlation between Explanatory variables and response variable, because we can plot the slope and examine the correltaion in better way then from histogram\\boxplot.\n",
    "\n",
    "As we can see neither Age nor educational-num are strongly-positive correlated with income. The slope tends to 0."
   ]
  },
  {
   "cell_type": "code",
   "execution_count": 74,
   "metadata": {},
   "outputs": [
    {
     "data": {
      "image/png": "[encoded data removed]",
      "text/plain": [
       "<Figure size 1440x360 with 2 Axes>"
      ]
     },
     "metadata": {
      "needs_background": "light"
     },
     "output_type": "display_data"
    }
   ],
   "source": [
    "import seaborn as sns\n",
    "import matplotlib.pyplot as plt\n",
    "from scipy import stats\n",
    "\n",
    "fig = plt.figure(figsize=(20,5))\n",
    "ax1 = fig.add_subplot(121)\n",
    "ax2 = fig.add_subplot(122)\n",
    "\n",
    "# get coeffs of linear fit\n",
    "slope1, intercept1, r_value1, p_value1, std_err1 = stats.linregress(df_200_samples['age'],df_200_samples['income'])\n",
    "# use line_kws to set line label for legend\n",
    "sns.regplot(x=\"age\", y=\"income\", data=df_200_samples, color='g', \n",
    " line_kws={'label':\"y={0:.10f}x+{1:.10f}\".format(slope1,intercept1)}, ax=ax1)\n",
    "\n",
    "\n",
    "slope, intercept, r_value, p_value, std_err = stats.linregress(df_200_samples['age'],df_200_samples['income'])\n",
    "sns.regplot(x=\"educational-num\", y=\"income\", data=df_200_samples, color='b', \n",
    "line_kws={'label':\"y={0:.10f}x+{1:.10f}\".format(slope,intercept)}, ax=ax2)\n",
    "\n",
    "ax1.set_title('Scatter plot of income as a function of age')\n",
    "ax2.set_title('Scatter plot of income as a function of educational-num')\n",
    "\n",
    "ax1.legend()\n",
    "ax2.legend()\n",
    "plt.show()"
   ]
  },
  {
   "cell_type": "code",
   "execution_count": 75,
   "metadata": {},
   "outputs": [],
   "source": [
    "def redner_df(df):\n",
    "    df['aux_columns_of_ones']= [1]*df.shape[0]\n",
    "    df = df[['aux_columns_of_ones','gender','age','educational-num','income']]\n",
    "    return df"
   ]
  },
  {
   "cell_type": "code",
   "execution_count": 76,
   "metadata": {},
   "outputs": [
    {
     "name": "stdout",
     "output_type": "stream",
     "text": [
      "[1.82330044e-05 1.43356298e+00 3.46459079e-02 4.25807443e-01]\n"
     ]
    }
   ],
   "source": [
    "import matplotlib.pyplot as plt\n",
    "import numpy as np\n",
    "from sklearn.linear_model import LogisticRegression\n",
    "\n",
    "df_full=redner_df(df_full)\n",
    "df_200_samples=redner_df(df_200_samples)\n",
    "\n",
    "X_sampled,Y_sampled=create_targets_and_lables(df_200_samples)\n",
    "model=LogisticRegression(random_state=0).fit(X_sampled,Y_sampled.ravel())\n",
    "beta_est=model.coef_[0]\n",
    "print(beta_est)"
   ]
  },
  {
   "cell_type": "markdown",
   "metadata": {},
   "source": [
    "Increase in one unit in <b>age</b> increases OR  by exp^(4.097)\n",
    "\n",
    "Increase in one unit in <b>educational-num</b> increases OR  by exp^(2.568)\n",
    "\n",
    "Increase in one unit in <b>gender increases</b> income OR  by exp^(1.323)"
   ]
  },
  {
   "cell_type": "markdown",
   "metadata": {},
   "source": [
    "### Section 5"
   ]
  },
  {
   "cell_type": "code",
   "execution_count": 77,
   "metadata": {},
   "outputs": [
    {
     "name": "stdout",
     "output_type": "stream",
     "text": [
      "CI per beta\n",
      "{'beta_0': [-2.5697788834198674, 2.5698153494287483],\n",
      " 'beta_1': [0.36724853385120393, 2.49987742782391],\n",
      " 'beta_2': [0.004990819323081992, 0.06430099650388693],\n",
      " 'beta_3': [0.25211987547358805, 0.5994950114596922]}\n"
     ]
    }
   ],
   "source": [
    "Y_pred = model.predict_proba(X_sampled)\n",
    "\n",
    "# Initiate matrix of 0's, fill diagonal with each predicted observation's variance\n",
    "V = np.diagflat(np.product(Y_pred, axis=1))\n",
    "\n",
    "var_beta_est = np.linalg.inv(X_sampled.T @ V @ X_sampled)\n",
    "\n",
    "CI={}\n",
    "t_quantile=t.ppf(1-0.05/2, X_sampled.shape[0]-X_sampled.shape[1])\n",
    "for i,beta in enumerate(beta_est):\n",
    "    CI[\"beta_{}\".format(i)]=[beta-t_quantile*math.sqrt(var_beta_est[i][i]),beta+t_quantile*math.sqrt(var_beta_est[i][i])]\n",
    "    \n",
    "print('CI per beta')\n",
    "pprint.pprint(CI)    \n"
   ]
  },
  {
   "cell_type": "code",
   "execution_count": 78,
   "metadata": {},
   "outputs": [
    {
     "name": "stdout",
     "output_type": "stream",
     "text": [
      "[[-0.69272593]\n",
      " [ 0.18209858]\n",
      " [ 0.00681502]\n",
      " [ 0.0548443 ]]\n"
     ]
    }
   ],
   "source": [
    "beta_origin=estimate_beta(df_full)\n",
    "print(beta_origin)"
   ]
  },
  {
   "cell_type": "code",
   "execution_count": 79,
   "metadata": {},
   "outputs": [
    {
     "name": "stdout",
     "output_type": "stream",
     "text": [
      "beta_0 = -0.6927259305961198 is in CI =[-2.5697788834198674, 2.5698153494287483]\n",
      "beta_1 = 0.18209858238889542 not in CI =[0.36724853385120393, 2.49987742782391]\n",
      "beta_2 = 0.00681501607237147 is in CI =[0.004990819323081992, 0.06430099650388693]\n",
      "beta_3 = 0.05484430022976007 not in CI =[0.25211987547358805, 0.5994950114596922]\n"
     ]
    }
   ],
   "source": [
    "for i,beta in enumerate(beta_origin):\n",
    "    lower_bound=CI[\"beta_{}\".format(i)][0]\n",
    "    upper_bound=CI[\"beta_{}\".format(i)][1]\n",
    "    if lower_bound<=beta[0]<=upper_bound:\n",
    "        print (\"beta_{} = {} is in CI ={}\".format(i,beta[0],CI[\"beta_{}\".format(i)]))\n",
    "    else:\n",
    "        print (\"beta_{} = {} not in CI ={}\".format(i,beta[0],CI[\"beta_{}\".format(i)]))"
   ]
  },
  {
   "cell_type": "markdown",
   "metadata": {},
   "source": [
    "### Section 6"
   ]
  },
  {
   "cell_type": "code",
   "execution_count": 80,
   "metadata": {},
   "outputs": [
    {
     "data": {
      "text/html": [
       "<div>\n",
       "<style scoped>\n",
       "    .dataframe tbody tr th:only-of-type {\n",
       "        vertical-align: middle;\n",
       "    }\n",
       "\n",
       "    .dataframe tbody tr th {\n",
       "        vertical-align: top;\n",
       "    }\n",
       "\n",
       "    .dataframe thead th {\n",
       "        text-align: right;\n",
       "    }\n",
       "</style>\n",
       "<table border=\"1\" class=\"dataframe\">\n",
       "  <thead>\n",
       "    <tr style=\"text-align: right;\">\n",
       "      <th></th>\n",
       "      <th>aux_columns_of_ones</th>\n",
       "      <th>Z12</th>\n",
       "      <th>Z13</th>\n",
       "      <th>Z23</th>\n",
       "      <th>gender</th>\n",
       "      <th>age</th>\n",
       "      <th>educational-num</th>\n",
       "      <th>income</th>\n",
       "    </tr>\n",
       "  </thead>\n",
       "  <tbody>\n",
       "    <tr>\n",
       "      <th>44688</th>\n",
       "      <td>1</td>\n",
       "      <td>0</td>\n",
       "      <td>0</td>\n",
       "      <td>530</td>\n",
       "      <td>0</td>\n",
       "      <td>53</td>\n",
       "      <td>10</td>\n",
       "      <td>0</td>\n",
       "    </tr>\n",
       "    <tr>\n",
       "      <th>33521</th>\n",
       "      <td>1</td>\n",
       "      <td>52</td>\n",
       "      <td>14</td>\n",
       "      <td>728</td>\n",
       "      <td>1</td>\n",
       "      <td>52</td>\n",
       "      <td>14</td>\n",
       "      <td>0</td>\n",
       "    </tr>\n",
       "    <tr>\n",
       "      <th>39402</th>\n",
       "      <td>1</td>\n",
       "      <td>23</td>\n",
       "      <td>5</td>\n",
       "      <td>115</td>\n",
       "      <td>1</td>\n",
       "      <td>23</td>\n",
       "      <td>5</td>\n",
       "      <td>0</td>\n",
       "    </tr>\n",
       "    <tr>\n",
       "      <th>42649</th>\n",
       "      <td>1</td>\n",
       "      <td>34</td>\n",
       "      <td>9</td>\n",
       "      <td>306</td>\n",
       "      <td>1</td>\n",
       "      <td>34</td>\n",
       "      <td>9</td>\n",
       "      <td>1</td>\n",
       "    </tr>\n",
       "    <tr>\n",
       "      <th>37502</th>\n",
       "      <td>1</td>\n",
       "      <td>0</td>\n",
       "      <td>0</td>\n",
       "      <td>470</td>\n",
       "      <td>0</td>\n",
       "      <td>47</td>\n",
       "      <td>10</td>\n",
       "      <td>0</td>\n",
       "    </tr>\n",
       "  </tbody>\n",
       "</table>\n",
       "</div>"
      ],
      "text/plain": [
       "       aux_columns_of_ones  Z12  Z13  Z23  gender  age  educational-num  \\\n",
       "44688                    1    0    0  530       0   53               10   \n",
       "33521                    1   52   14  728       1   52               14   \n",
       "39402                    1   23    5  115       1   23                5   \n",
       "42649                    1   34    9  306       1   34                9   \n",
       "37502                    1    0    0  470       0   47               10   \n",
       "\n",
       "       income  \n",
       "44688       0  \n",
       "33521       0  \n",
       "39402       0  \n",
       "42649       1  \n",
       "37502       0  "
      ]
     },
     "execution_count": 80,
     "metadata": {},
     "output_type": "execute_result"
    }
   ],
   "source": [
    "df_model2=df_200_samples.copy(deep=False)\n",
    "\n",
    "df_model2['Z12']= df_model2['gender']*df_model2['age']\n",
    "df_model2['Z13']= df_model2['gender']*df_model2['educational-num']\n",
    "df_model2['Z23']= df_model2['age']*df_model2['educational-num']\n",
    "df_model2 = df_model2[['aux_columns_of_ones','Z12','Z13','Z23','gender','age','educational-num','income']]\n",
    "\n",
    "df_model2.head()"
   ]
  },
  {
   "cell_type": "code",
   "execution_count": 81,
   "metadata": {},
   "outputs": [
    {
     "name": "stdout",
     "output_type": "stream",
     "text": [
      "[-1.01018653  0.01580996  0.09143339  0.01076988 -0.01214197 -0.09120411\n",
      " -0.1056569 ]\n"
     ]
    }
   ],
   "source": [
    "X_sampled_2,Y_sampled_2=create_targets_and_lables(df_model2)\n",
    "model2=LogisticRegression(random_state=0).fit(X_sampled_2,Y_sampled_2.ravel())\n",
    "beta_est2=model2.coef_[0]\n",
    "print(beta_est2)"
   ]
  },
  {
   "cell_type": "code",
   "execution_count": 82,
   "metadata": {},
   "outputs": [
    {
     "name": "stdout",
     "output_type": "stream",
     "text": [
      "-976.1602364503464\n",
      "-105.32171859007532\n",
      "lambda=-1741.677035720542\n",
      "Cant Reject H0 -> model 1 is better\n"
     ]
    }
   ],
   "source": [
    "from scipy.stats import chi2\n",
    "\n",
    "def get_ll(beta,X,Y):\n",
    "    log_likelihood_for_beta=0\n",
    "    for x,y in zip(X,Y):\n",
    "        pi=np.exp(beta.T@x)/(1+np.exp(beta.T@x))\n",
    "        log_likelihood_for_beta+=y*np.log(pi)+(1-y)*np.log(1-pi)\n",
    "    return log_likelihood_for_beta\n",
    "\n",
    "\n",
    "chi2=chi2.ppf(0.05, 4)\n",
    "\n",
    "log_likelihood_for_model2=get_ll(beta_est2,X_sampled_2,Y_sampled_2)[0]\n",
    "log_likelihood_for_model1=get_ll(beta_est,X_sampled,Y_sampled)[0]\n",
    "\n",
    "print(log_likelihood_for_model1)\n",
    "print(log_likelihood_for_model2)\n",
    "ratio=2*(log_likelihood_for_model1-log_likelihood_for_model2)\n",
    "\n",
    "print('lambda={}'.format(ratio))\n",
    "\n",
    "\n",
    "if ratio>=chi2:\n",
    "    print('Reject H0 -> model 2 (with interactions) is better')\n",
    "else:\n",
    "    print('Cant Reject H0 -> model 1 is better')"
   ]
  },
  {
   "cell_type": "code",
   "execution_count": 83,
   "metadata": {},
   "outputs": [
    {
     "name": "stdout",
     "output_type": "stream",
     "text": [
      "-984.1077125001684\n",
      "-121.21667068971942\n",
      "Model 2 (with interactions) is better\n"
     ]
    }
   ],
   "source": [
    "BIC2= log_likelihood_for_model2 - (X_sampled_2.shape[1]-1)*math.log(200)/2\n",
    "BIC1= log_likelihood_for_model1 - (X_sampled.shape[1]-1)*math.log(200)/2\n",
    "\n",
    "print(BIC1)\n",
    "print(BIC2)\n",
    "\n",
    "if BIC1<BIC2:\n",
    "    print('Model 2 (with interactions) is better')\n",
    "if BIC1>=BIC2:\n",
    "    print('Model 1 is better')\n"
   ]
  },
  {
   "cell_type": "markdown",
   "metadata": {},
   "source": [
    "##### Model 1 is preffered according to LLR and model 2 preffered according to BIC.\n",
    "\n",
    "##### Explanation on the difference:The likelihood ratio test testing the hypothesis that a specified subset of the parameters equal some pre-specified values (zero in our case).AIC is not used for formal testing. It is used for informal comparisons of models with differing numbers of parameters. The penalty term in the expression for AIC is what allows this comparison.\n"
   ]
  },
  {
   "cell_type": "markdown",
   "metadata": {},
   "source": [
    "#### Section 7"
   ]
  },
  {
   "cell_type": "code",
   "execution_count": 125,
   "metadata": {},
   "outputs": [
    {
     "data": {
      "text/html": [
       "<div>\n",
       "<style scoped>\n",
       "    .dataframe tbody tr th:only-of-type {\n",
       "        vertical-align: middle;\n",
       "    }\n",
       "\n",
       "    .dataframe tbody tr th {\n",
       "        vertical-align: top;\n",
       "    }\n",
       "\n",
       "    .dataframe thead th {\n",
       "        text-align: right;\n",
       "    }\n",
       "</style>\n",
       "<table border=\"1\" class=\"dataframe\">\n",
       "  <thead>\n",
       "    <tr style=\"text-align: right;\">\n",
       "      <th></th>\n",
       "      <th>age</th>\n",
       "      <th>workclass</th>\n",
       "      <th>fnlwgt</th>\n",
       "      <th>education</th>\n",
       "      <th>educational-num</th>\n",
       "      <th>marital-status</th>\n",
       "      <th>occupation</th>\n",
       "      <th>relationship</th>\n",
       "      <th>race</th>\n",
       "      <th>gender</th>\n",
       "      <th>capital-gain</th>\n",
       "      <th>capital-loss</th>\n",
       "      <th>hours-per-week</th>\n",
       "      <th>native-country</th>\n",
       "      <th>income</th>\n",
       "    </tr>\n",
       "  </thead>\n",
       "  <tbody>\n",
       "    <tr>\n",
       "      <th>0</th>\n",
       "      <td>25</td>\n",
       "      <td>Private</td>\n",
       "      <td>226802</td>\n",
       "      <td>11th</td>\n",
       "      <td>7</td>\n",
       "      <td>Never-married</td>\n",
       "      <td>Machine-op-inspct</td>\n",
       "      <td>Own-child</td>\n",
       "      <td>Black</td>\n",
       "      <td>1</td>\n",
       "      <td>0</td>\n",
       "      <td>0</td>\n",
       "      <td>40</td>\n",
       "      <td>United-States</td>\n",
       "      <td>0</td>\n",
       "    </tr>\n",
       "    <tr>\n",
       "      <th>1</th>\n",
       "      <td>38</td>\n",
       "      <td>Private</td>\n",
       "      <td>89814</td>\n",
       "      <td>HS-grad</td>\n",
       "      <td>9</td>\n",
       "      <td>Married-civ-spouse</td>\n",
       "      <td>Farming-fishing</td>\n",
       "      <td>Husband</td>\n",
       "      <td>White</td>\n",
       "      <td>1</td>\n",
       "      <td>0</td>\n",
       "      <td>0</td>\n",
       "      <td>50</td>\n",
       "      <td>United-States</td>\n",
       "      <td>0</td>\n",
       "    </tr>\n",
       "    <tr>\n",
       "      <th>2</th>\n",
       "      <td>28</td>\n",
       "      <td>Local-gov</td>\n",
       "      <td>336951</td>\n",
       "      <td>Assoc-acdm</td>\n",
       "      <td>12</td>\n",
       "      <td>Married-civ-spouse</td>\n",
       "      <td>Protective-serv</td>\n",
       "      <td>Husband</td>\n",
       "      <td>White</td>\n",
       "      <td>1</td>\n",
       "      <td>0</td>\n",
       "      <td>0</td>\n",
       "      <td>40</td>\n",
       "      <td>United-States</td>\n",
       "      <td>1</td>\n",
       "    </tr>\n",
       "    <tr>\n",
       "      <th>3</th>\n",
       "      <td>44</td>\n",
       "      <td>Private</td>\n",
       "      <td>160323</td>\n",
       "      <td>Some-college</td>\n",
       "      <td>10</td>\n",
       "      <td>Married-civ-spouse</td>\n",
       "      <td>Machine-op-inspct</td>\n",
       "      <td>Husband</td>\n",
       "      <td>Black</td>\n",
       "      <td>1</td>\n",
       "      <td>7688</td>\n",
       "      <td>0</td>\n",
       "      <td>40</td>\n",
       "      <td>United-States</td>\n",
       "      <td>1</td>\n",
       "    </tr>\n",
       "    <tr>\n",
       "      <th>5</th>\n",
       "      <td>34</td>\n",
       "      <td>Private</td>\n",
       "      <td>198693</td>\n",
       "      <td>10th</td>\n",
       "      <td>6</td>\n",
       "      <td>Never-married</td>\n",
       "      <td>Other-service</td>\n",
       "      <td>Not-in-family</td>\n",
       "      <td>White</td>\n",
       "      <td>1</td>\n",
       "      <td>0</td>\n",
       "      <td>0</td>\n",
       "      <td>30</td>\n",
       "      <td>United-States</td>\n",
       "      <td>0</td>\n",
       "    </tr>\n",
       "  </tbody>\n",
       "</table>\n",
       "</div>"
      ],
      "text/plain": [
       "   age  workclass  fnlwgt     education  educational-num      marital-status  \\\n",
       "0   25    Private  226802          11th                7       Never-married   \n",
       "1   38    Private   89814       HS-grad                9  Married-civ-spouse   \n",
       "2   28  Local-gov  336951    Assoc-acdm               12  Married-civ-spouse   \n",
       "3   44    Private  160323  Some-college               10  Married-civ-spouse   \n",
       "5   34    Private  198693          10th                6       Never-married   \n",
       "\n",
       "          occupation   relationship   race  gender  capital-gain  \\\n",
       "0  Machine-op-inspct      Own-child  Black       1             0   \n",
       "1    Farming-fishing        Husband  White       1             0   \n",
       "2    Protective-serv        Husband  White       1             0   \n",
       "3  Machine-op-inspct        Husband  Black       1          7688   \n",
       "5      Other-service  Not-in-family  White       1             0   \n",
       "\n",
       "   capital-loss  hours-per-week native-country  income  \n",
       "0             0              40  United-States       0  \n",
       "1             0              50  United-States       0  \n",
       "2             0              40  United-States       1  \n",
       "3             0              40  United-States       1  \n",
       "5             0              30  United-States       0  "
      ]
     },
     "execution_count": 125,
     "metadata": {},
     "output_type": "execute_result"
    }
   ],
   "source": [
    "# Removing missing values\n",
    "missing_values = [\"n/a\", \"na\", \"--\",\"?\"]\n",
    "df_full = pd.read_csv(\"adult.csv\",sep=\",\", na_values = missing_values)\n",
    "df_full=df_full.dropna()\n",
    "\n",
    "# Converting string columns to binary.\n",
    "df_full['gender'] =df_full['gender'].map({'Female': 0, 'Male': 1})\n",
    "df_full['income'] = df_full['income'].map({'>50K': 1, '<=50K': 0})\n",
    "df_full.head()"
   ]
  },
  {
   "cell_type": "markdown",
   "metadata": {},
   "source": [
    "#### We exclude categorical columns from the data-set, because we already have planty of explanatory variables and we also add interactions."
   ]
  },
  {
   "cell_type": "code",
   "execution_count": 126,
   "metadata": {},
   "outputs": [
    {
     "data": {
      "text/html": [
       "<div>\n",
       "<style scoped>\n",
       "    .dataframe tbody tr th:only-of-type {\n",
       "        vertical-align: middle;\n",
       "    }\n",
       "\n",
       "    .dataframe tbody tr th {\n",
       "        vertical-align: top;\n",
       "    }\n",
       "\n",
       "    .dataframe thead th {\n",
       "        text-align: right;\n",
       "    }\n",
       "</style>\n",
       "<table border=\"1\" class=\"dataframe\">\n",
       "  <thead>\n",
       "    <tr style=\"text-align: right;\">\n",
       "      <th></th>\n",
       "      <th>age</th>\n",
       "      <th>educational-num</th>\n",
       "      <th>gender</th>\n",
       "      <th>capital-gain</th>\n",
       "      <th>capital-loss</th>\n",
       "      <th>hours-per-week</th>\n",
       "      <th>age+educational-num</th>\n",
       "      <th>age+gender</th>\n",
       "      <th>age+capital-gain</th>\n",
       "      <th>age+capital-loss</th>\n",
       "      <th>...</th>\n",
       "      <th>capital-loss+educational-num</th>\n",
       "      <th>capital-loss+gender</th>\n",
       "      <th>capital-loss+capital-gain</th>\n",
       "      <th>capital-loss+hours-per-week</th>\n",
       "      <th>hours-per-week+age</th>\n",
       "      <th>hours-per-week+educational-num</th>\n",
       "      <th>hours-per-week+gender</th>\n",
       "      <th>hours-per-week+capital-gain</th>\n",
       "      <th>hours-per-week+capital-loss</th>\n",
       "      <th>aux_columns_of_ones</th>\n",
       "    </tr>\n",
       "  </thead>\n",
       "  <tbody>\n",
       "    <tr>\n",
       "      <th>0</th>\n",
       "      <td>25</td>\n",
       "      <td>7</td>\n",
       "      <td>1</td>\n",
       "      <td>0</td>\n",
       "      <td>0</td>\n",
       "      <td>40</td>\n",
       "      <td>175</td>\n",
       "      <td>25</td>\n",
       "      <td>0</td>\n",
       "      <td>0</td>\n",
       "      <td>...</td>\n",
       "      <td>0</td>\n",
       "      <td>0</td>\n",
       "      <td>0</td>\n",
       "      <td>0</td>\n",
       "      <td>1000</td>\n",
       "      <td>280</td>\n",
       "      <td>40</td>\n",
       "      <td>0</td>\n",
       "      <td>0</td>\n",
       "      <td>1</td>\n",
       "    </tr>\n",
       "    <tr>\n",
       "      <th>1</th>\n",
       "      <td>38</td>\n",
       "      <td>9</td>\n",
       "      <td>1</td>\n",
       "      <td>0</td>\n",
       "      <td>0</td>\n",
       "      <td>50</td>\n",
       "      <td>342</td>\n",
       "      <td>38</td>\n",
       "      <td>0</td>\n",
       "      <td>0</td>\n",
       "      <td>...</td>\n",
       "      <td>0</td>\n",
       "      <td>0</td>\n",
       "      <td>0</td>\n",
       "      <td>0</td>\n",
       "      <td>1900</td>\n",
       "      <td>450</td>\n",
       "      <td>50</td>\n",
       "      <td>0</td>\n",
       "      <td>0</td>\n",
       "      <td>1</td>\n",
       "    </tr>\n",
       "    <tr>\n",
       "      <th>2</th>\n",
       "      <td>28</td>\n",
       "      <td>12</td>\n",
       "      <td>1</td>\n",
       "      <td>0</td>\n",
       "      <td>0</td>\n",
       "      <td>40</td>\n",
       "      <td>336</td>\n",
       "      <td>28</td>\n",
       "      <td>0</td>\n",
       "      <td>0</td>\n",
       "      <td>...</td>\n",
       "      <td>0</td>\n",
       "      <td>0</td>\n",
       "      <td>0</td>\n",
       "      <td>0</td>\n",
       "      <td>1120</td>\n",
       "      <td>480</td>\n",
       "      <td>40</td>\n",
       "      <td>0</td>\n",
       "      <td>0</td>\n",
       "      <td>1</td>\n",
       "    </tr>\n",
       "    <tr>\n",
       "      <th>3</th>\n",
       "      <td>44</td>\n",
       "      <td>10</td>\n",
       "      <td>1</td>\n",
       "      <td>7688</td>\n",
       "      <td>0</td>\n",
       "      <td>40</td>\n",
       "      <td>440</td>\n",
       "      <td>44</td>\n",
       "      <td>338272</td>\n",
       "      <td>0</td>\n",
       "      <td>...</td>\n",
       "      <td>0</td>\n",
       "      <td>0</td>\n",
       "      <td>0</td>\n",
       "      <td>0</td>\n",
       "      <td>1760</td>\n",
       "      <td>400</td>\n",
       "      <td>40</td>\n",
       "      <td>307520</td>\n",
       "      <td>0</td>\n",
       "      <td>1</td>\n",
       "    </tr>\n",
       "    <tr>\n",
       "      <th>5</th>\n",
       "      <td>34</td>\n",
       "      <td>6</td>\n",
       "      <td>1</td>\n",
       "      <td>0</td>\n",
       "      <td>0</td>\n",
       "      <td>30</td>\n",
       "      <td>204</td>\n",
       "      <td>34</td>\n",
       "      <td>0</td>\n",
       "      <td>0</td>\n",
       "      <td>...</td>\n",
       "      <td>0</td>\n",
       "      <td>0</td>\n",
       "      <td>0</td>\n",
       "      <td>0</td>\n",
       "      <td>1020</td>\n",
       "      <td>180</td>\n",
       "      <td>30</td>\n",
       "      <td>0</td>\n",
       "      <td>0</td>\n",
       "      <td>1</td>\n",
       "    </tr>\n",
       "  </tbody>\n",
       "</table>\n",
       "<p>5 rows × 37 columns</p>\n",
       "</div>"
      ],
      "text/plain": [
       "   age  educational-num  gender  capital-gain  capital-loss  hours-per-week  \\\n",
       "0   25                7       1             0             0              40   \n",
       "1   38                9       1             0             0              50   \n",
       "2   28               12       1             0             0              40   \n",
       "3   44               10       1          7688             0              40   \n",
       "5   34                6       1             0             0              30   \n",
       "\n",
       "   age+educational-num  age+gender  age+capital-gain  age+capital-loss  ...  \\\n",
       "0                  175          25                 0                 0  ...   \n",
       "1                  342          38                 0                 0  ...   \n",
       "2                  336          28                 0                 0  ...   \n",
       "3                  440          44            338272                 0  ...   \n",
       "5                  204          34                 0                 0  ...   \n",
       "\n",
       "   capital-loss+educational-num  capital-loss+gender  \\\n",
       "0                             0                    0   \n",
       "1                             0                    0   \n",
       "2                             0                    0   \n",
       "3                             0                    0   \n",
       "5                             0                    0   \n",
       "\n",
       "   capital-loss+capital-gain  capital-loss+hours-per-week  hours-per-week+age  \\\n",
       "0                          0                            0                1000   \n",
       "1                          0                            0                1900   \n",
       "2                          0                            0                1120   \n",
       "3                          0                            0                1760   \n",
       "5                          0                            0                1020   \n",
       "\n",
       "   hours-per-week+educational-num  hours-per-week+gender  \\\n",
       "0                             280                     40   \n",
       "1                             450                     50   \n",
       "2                             480                     40   \n",
       "3                             400                     40   \n",
       "5                             180                     30   \n",
       "\n",
       "   hours-per-week+capital-gain  hours-per-week+capital-loss  \\\n",
       "0                            0                            0   \n",
       "1                            0                            0   \n",
       "2                            0                            0   \n",
       "3                       307520                            0   \n",
       "5                            0                            0   \n",
       "\n",
       "   aux_columns_of_ones  \n",
       "0                    1  \n",
       "1                    1  \n",
       "2                    1  \n",
       "3                    1  \n",
       "5                    1  \n",
       "\n",
       "[5 rows x 37 columns]"
      ]
     },
     "execution_count": 126,
     "metadata": {},
     "output_type": "execute_result"
    }
   ],
   "source": [
    "Y_org=df_full['income'].values\n",
    "\n",
    "columns=df_full.select_dtypes([np.number]).columns.drop('income')\n",
    "columns=columns.drop('fnlwgt')\n",
    "\n",
    "df_full=df_full[columns]\n",
    "\n",
    "for c in columns:\n",
    "    for c2 in columns:\n",
    "        if c!=c2:\n",
    "            df_full['{}+{}'.format(c,c2)]=df_full[c]*df_full[c2]\n",
    "                   \n",
    "df_full['aux_columns_of_ones']= [1]*df_full.shape[0]\n",
    "df_full.head()"
   ]
  },
  {
   "cell_type": "code",
   "execution_count": 127,
   "metadata": {},
   "outputs": [],
   "source": [
    "def get_ll(beta,X,Y):   \n",
    "    p = expit(X @ beta)\n",
    "    log_likelihood_for_beta=np.sum(Y*np.log(p+epsilon) + (1-Y)*np.log(1-p+epsilon))\n",
    "    return log_likelihood_for_beta\n",
    "\n",
    "def get_best_variable_fsr(X_existing,Y,bic_criterion=True):\n",
    "    unchosen_vars=list(set(columns) - set(X_existing))\n",
    "    if len(unchosen_vars)==0:\n",
    "        return False, None\n",
    "#     model from best selected explanatory variables\n",
    "    if len(X_existing)==0:\n",
    "    # BIC/AIC of null model while sigmoid func = 1/2.\n",
    "        critarion=np.sum(Y*np.log(1/2+epsilon) + (1-Y)*np.log(1/2+epsilon))\n",
    "    else:\n",
    "        X=df_full[X_existing].values\n",
    "        model=LogisticRegression(random_state=0).fit(X,Y.ravel())\n",
    "        beta=model.coef_[0]\n",
    "        if bic_criterion:\n",
    "            # BIC\n",
    "            critarion=get_ll(beta,X,Y)-(X.shape[1]-1)*math.log(X.shape[0])/2\n",
    "        else:\n",
    "            # AIC\n",
    "            critarion=get_ll(beta,X,Y)-(X.shape[1]-1)\n",
    "#     best_critarion - corresponds to model with max BIC/AIC (depending on bic_criterion flag)\n",
    "    best_critarion=critarion\n",
    "#     best_var- explanatory variable that maximizes model's BIC/AIC while added.\n",
    "    best_var=None\n",
    "    \n",
    "    for var in unchosen_vars:\n",
    "        X_check_opt=X_existing.copy()\n",
    "        X_check_opt.append(var)\n",
    "        X_new=df_full[X_check_opt].values\n",
    "        new_model=LogisticRegression(random_state=0).fit(X_new,Y.ravel())\n",
    "        beta_new=new_model.coef_[0]\n",
    "        \n",
    "        #BIC         \n",
    "        if bic_criterion:\n",
    "            critarion=get_ll(beta_new,X_new,Y)-(X_new.shape[1]-1)*math.log(X_new.shape[0])/2 \n",
    "        else:\n",
    "            # AIC\n",
    "            critarion=get_ll(beta_new,X_new,Y)-(X_new.shape[1]-1)\n",
    "        if critarion>=best_critarion:\n",
    "            best_var=var\n",
    "            best_critarion=critarion  \n",
    "                \n",
    "    if best_var is not None:\n",
    "        return True, best_var\n",
    "    \n",
    "    return False,None    "
   ]
  },
  {
   "cell_type": "code",
   "execution_count": 128,
   "metadata": {},
   "outputs": [
    {
     "name": "stdout",
     "output_type": "stream",
     "text": [
      "Model chosen by Forward  Stepwise Regression with respect to BIC is model that includes following explanatory variables: \n",
      " ['aux_columns_of_ones', 'capital-gain+educational-num', 'capital-loss+educational-num', 'hours-per-week', 'hours-per-week+educational-num', 'educational-num', 'age+gender', 'age+hours-per-week', 'educational-num+gender', 'gender+educational-num']\n"
     ]
    }
   ],
   "source": [
    "columns=df_full.columns\n",
    "chosen_vars=[]\n",
    "flag_fsr=True\n",
    "\n",
    "while flag_fsr:\n",
    "    flag_fsr,var=get_best_variable_fsr(chosen_vars,Y_org)\n",
    "    if var:\n",
    "        chosen_vars.append(var)\n",
    "        \n",
    "print(\"Model chosen by Forward  Stepwise Regression with respect to BIC is model that includes following explanatory variables: \\n {}\".format(chosen_vars))"
   ]
  },
  {
   "cell_type": "code",
   "execution_count": 129,
   "metadata": {},
   "outputs": [],
   "source": [
    "def get_worst_variable_bsr(X_existing,Y,bic_criterion=True):\n",
    "    if len(X_existing)==0:\n",
    "        return False, None\n",
    "#     model from best selected explanatory variables\n",
    "    X=df_full[X_existing].values\n",
    "    model=LogisticRegression(random_state=0).fit(X,Y.ravel())\n",
    "    beta=model.coef_[0]\n",
    "    if bic_criterion:\n",
    "#         BIC on null model while sigmoid func = 1/2.\n",
    "        critarion=get_ll(beta,X,Y)- (X.shape[1]-1)*math.log(X.shape[0])/2\n",
    "        # AIC\n",
    "    else:\n",
    "        critarion=get_ll(beta,X,Y)- (X.shape[1]-1)\n",
    "#     worst_critarion - corresponds to model with min BIC/AIC (depending on bic_criterion flag)\n",
    "    worst_critarion=critarion\n",
    "#     worst_var- explanatory variable that minimizes model's BIC/AIC while added.\n",
    "    worst_var=None\n",
    "    \n",
    "    for var in X_existing:\n",
    "        X_check_opt=X_existing.copy()\n",
    "        X_check_opt.remove(var)\n",
    "        if len(X_check_opt)==0:\n",
    "            # BIC/AIC of null model while sigmoid func = 1/2.\n",
    "            critarion=np.sum(Y*np.log(1/2+epsilon) + (1-Y)*np.log(1/2+epsilon))\n",
    "        else:\n",
    "            X_new=df_full[X_check_opt].values\n",
    "            new_model=LogisticRegression(random_state=0).fit(X_new,Y.ravel())\n",
    "            beta_new=new_model.coef_[0]\n",
    "        #BIC         \n",
    "        if bic_criterion:\n",
    "            critarion=get_ll(beta_new,X_new,Y)- (X_new.shape[1]-1)*math.log(X_new.shape[0])/2\n",
    "        else:\n",
    "            # AIC\n",
    "            critarion=get_ll(beta_new,X_new,Y)- (X_new.shape[1]-1)\n",
    "            \n",
    "        if critarion<worst_critarion:\n",
    "            worst_var=var\n",
    "            worst_critarion=critarion\n",
    "            \n",
    "    if worst_var is not None:\n",
    "        return True, worst_var\n",
    "    return False,None"
   ]
  },
  {
   "cell_type": "code",
   "execution_count": 130,
   "metadata": {},
   "outputs": [
    {
     "name": "stdout",
     "output_type": "stream",
     "text": [
      "Model chosen by Backeard Stepwise Regression with respect to BIC is model that includes following explanatory variables: \n",
      " ['age', 'educational-num', 'gender', 'capital-gain', 'capital-loss', 'hours-per-week', 'age+educational-num', 'age+gender', 'age+capital-gain', 'age+capital-loss', 'age+hours-per-week', 'educational-num+age', 'educational-num+gender', 'educational-num+capital-gain', 'educational-num+capital-loss', 'educational-num+hours-per-week', 'gender+age', 'gender+educational-num', 'gender+capital-gain', 'gender+capital-loss', 'gender+hours-per-week', 'capital-gain+age', 'capital-gain+educational-num', 'capital-gain+capital-loss', 'capital-gain+hours-per-week', 'capital-loss+age', 'capital-loss+educational-num', 'capital-loss+gender', 'capital-loss+capital-gain', 'capital-loss+hours-per-week', 'hours-per-week+age', 'hours-per-week+educational-num', 'hours-per-week+gender', 'hours-per-week+capital-gain', 'hours-per-week+capital-loss', 'aux_columns_of_ones']\n"
     ]
    }
   ],
   "source": [
    "columns=df_full.columns\n",
    "\n",
    "chosen_vars=columns.copy(deep=False).tolist()\n",
    "flag_bsr=True\n",
    "\n",
    "while flag_bsr:\n",
    "    flag_bsr,var=get_worst_variable_bsr(chosen_vars,Y_org)\n",
    "    if var:\n",
    "        chosen_vars.remove(var)\n",
    "        \n",
    "print(\"Model chosen by Backeard Stepwise Regression with respect to BIC is model that includes following explanatory variables: \\n {}\".format(chosen_vars))"
   ]
  },
  {
   "cell_type": "markdown",
   "metadata": {},
   "source": [
    "#### Forward Stepwise Regression return different model than Backward Stepwide Regression.This is because the choosing order of the variables is different, we might \"miss\" another option as good as the chosen one."
   ]
  },
  {
   "cell_type": "markdown",
   "metadata": {},
   "source": [
    "#### Selection 8"
   ]
  },
  {
   "cell_type": "code",
   "execution_count": 131,
   "metadata": {},
   "outputs": [
    {
     "name": "stdout",
     "output_type": "stream",
     "text": [
      "Model chosen by Forward  Stepwise Regression with respect to AIC is model that includes following explanatory variables: \n",
      " ['aux_columns_of_ones', 'capital-gain+educational-num', 'capital-loss+educational-num', 'hours-per-week', 'hours-per-week+educational-num', 'educational-num', 'age+gender', 'age+hours-per-week', 'educational-num+gender', 'gender+educational-num']\n"
     ]
    }
   ],
   "source": [
    "columns=df_full.columns\n",
    "\n",
    "chosen_vars=[]\n",
    "flag_fsr=True\n",
    "\n",
    "while flag_fsr:\n",
    "    flag_fsr,var=get_best_variable_fsr(chosen_vars,Y_org,False)\n",
    "    if var:\n",
    "        chosen_vars.append(var)\n",
    "print(\"Model chosen by Forward  Stepwise Regression with respect to AIC is model that includes following explanatory variables: \\n {}\".format(chosen_vars))"
   ]
  },
  {
   "cell_type": "code",
   "execution_count": 132,
   "metadata": {},
   "outputs": [
    {
     "name": "stdout",
     "output_type": "stream",
     "text": [
      "Model chosen by Backeard Stepwise Regression with respect to AIC is model that includes following explanatory variables: \n",
      " ['age', 'educational-num', 'gender', 'capital-gain', 'capital-loss', 'hours-per-week', 'age+educational-num', 'age+gender', 'age+capital-gain', 'age+capital-loss', 'age+hours-per-week', 'educational-num+age', 'educational-num+gender', 'educational-num+capital-gain', 'educational-num+capital-loss', 'educational-num+hours-per-week', 'gender+age', 'gender+educational-num', 'gender+capital-gain', 'gender+capital-loss', 'gender+hours-per-week', 'capital-gain+age', 'capital-gain+educational-num', 'capital-gain+capital-loss', 'capital-gain+hours-per-week', 'capital-loss+age', 'capital-loss+educational-num', 'capital-loss+gender', 'capital-loss+capital-gain', 'capital-loss+hours-per-week', 'hours-per-week+age', 'hours-per-week+educational-num', 'hours-per-week+gender', 'hours-per-week+capital-gain', 'hours-per-week+capital-loss', 'aux_columns_of_ones']\n"
     ]
    }
   ],
   "source": [
    "columns=df_full.columns\n",
    "\n",
    "chosen_vars=columns.copy(deep=False).tolist()\n",
    "flag_bsr=True\n",
    "\n",
    "while flag_bsr:\n",
    "    flag_bsr,var=get_worst_variable_bsr(chosen_vars,Y_org,False)\n",
    "    if var:\n",
    "        chosen_vars.remove(var)\n",
    "print(\"Model chosen by Backeard Stepwise Regression with respect to AIC is model that includes following explanatory variables: \\n {}\".format(chosen_vars))"
   ]
  },
  {
   "cell_type": "markdown",
   "metadata": {},
   "source": [
    "###### There is no difference between section 7 and section 8, because we used BIC in first one and AIC in second one.Both AIC/BIC with max value correspond to picking best model without assumption on the real world.The only difference between AIC and BIC is that BIC gives bigger pennalty."
   ]
  }
 ],
 "metadata": {
  "kernelspec": {
   "display_name": "Python 3",
   "language": "python",
   "name": "python3"
  },
  "language_info": {
   "codemirror_mode": {
    "name": "ipython",
    "version": 3
   },
   "file_extension": ".py",
   "mimetype": "text/x-python",
   "name": "python",
   "nbconvert_exporter": "python",
   "pygments_lexer": "ipython3",
   "version": "3.8.5"
  }
 },
 "nbformat": 4,
 "nbformat_minor": 4
}
