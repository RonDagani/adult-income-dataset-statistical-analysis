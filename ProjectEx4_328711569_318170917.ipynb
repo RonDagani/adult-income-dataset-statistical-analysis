{
 "cells": [
  {
   "cell_type": "markdown",
   "metadata": {},
   "source": [
    "# Part A"
   ]
  },
  {
   "cell_type": "markdown",
   "metadata": {},
   "source": [
    "#### Research Question:\n",
    "Are age, gender and education (edication_num) correlated with hours per week?"
   ]
  },
  {
   "cell_type": "code",
   "execution_count": 81,
   "metadata": {},
   "outputs": [
    {
     "data": {
      "text/html": [
       "<div>\n",
       "<style scoped>\n",
       "    .dataframe tbody tr th:only-of-type {\n",
       "        vertical-align: middle;\n",
       "    }\n",
       "\n",
       "    .dataframe tbody tr th {\n",
       "        vertical-align: top;\n",
       "    }\n",
       "\n",
       "    .dataframe thead th {\n",
       "        text-align: right;\n",
       "    }\n",
       "</style>\n",
       "<table border=\"1\" class=\"dataframe\">\n",
       "  <thead>\n",
       "    <tr style=\"text-align: right;\">\n",
       "      <th></th>\n",
       "      <th>aux_columns_of_ones</th>\n",
       "      <th>gender</th>\n",
       "      <th>age</th>\n",
       "      <th>educational-num</th>\n",
       "      <th>hours-per-week</th>\n",
       "    </tr>\n",
       "  </thead>\n",
       "  <tbody>\n",
       "    <tr>\n",
       "      <th>26787</th>\n",
       "      <td>1</td>\n",
       "      <td>1</td>\n",
       "      <td>47</td>\n",
       "      <td>9</td>\n",
       "      <td>60</td>\n",
       "    </tr>\n",
       "    <tr>\n",
       "      <th>45647</th>\n",
       "      <td>1</td>\n",
       "      <td>0</td>\n",
       "      <td>22</td>\n",
       "      <td>12</td>\n",
       "      <td>25</td>\n",
       "    </tr>\n",
       "    <tr>\n",
       "      <th>23116</th>\n",
       "      <td>1</td>\n",
       "      <td>0</td>\n",
       "      <td>39</td>\n",
       "      <td>14</td>\n",
       "      <td>40</td>\n",
       "    </tr>\n",
       "    <tr>\n",
       "      <th>32479</th>\n",
       "      <td>1</td>\n",
       "      <td>1</td>\n",
       "      <td>70</td>\n",
       "      <td>9</td>\n",
       "      <td>40</td>\n",
       "    </tr>\n",
       "    <tr>\n",
       "      <th>16316</th>\n",
       "      <td>1</td>\n",
       "      <td>1</td>\n",
       "      <td>48</td>\n",
       "      <td>7</td>\n",
       "      <td>40</td>\n",
       "    </tr>\n",
       "  </tbody>\n",
       "</table>\n",
       "</div>"
      ],
      "text/plain": [
       "       aux_columns_of_ones  gender  age  educational-num  hours-per-week\n",
       "26787                    1       1   47                9              60\n",
       "45647                    1       0   22               12              25\n",
       "23116                    1       0   39               14              40\n",
       "32479                    1       1   70                9              40\n",
       "16316                    1       1   48                7              40"
      ]
     },
     "execution_count": 81,
     "metadata": {},
     "output_type": "execute_result"
    }
   ],
   "source": [
    "# Deprocations of jupyter warnings about sns functions that will be deprocated in the future. (sns.distplot)\n",
    "import warnings\n",
    "warnings.filterwarnings('ignore')\n",
    "\n",
    "#Reading a CSV file into pandas Dataframe\n",
    "import pandas as pd\n",
    "import numpy as np\n",
    "import math \n",
    "import matplotlib.pyplot as plt\n",
    "import random\n",
    "from scipy.stats import f,norm,t\n",
    "\n",
    "import pprint\n",
    "import sys\n",
    "\n",
    "random.seed(1)\n",
    "# Removing missing values\n",
    "missing_values = [\"n/a\", \"na\", \"--\",\"?\"]\n",
    "df_full = pd.read_csv(\"adult.csv\",sep=\",\", na_values = missing_values)\n",
    "df_full=df_full.dropna()\n",
    "\n",
    "# Converting string columns to binary.\n",
    "df_full['gender'] =df_full['gender'].map({'Female': 0, 'Male': 1})\n",
    "df_full['income'] = df_full['income'].map({'>50K': 1, '<=50K': 0})\n",
    "\n",
    "# Reducing dataset size to 200 samples and removing unused columns.\n",
    "df_full['aux_columns_of_ones']= [1]*df_full.shape[0]\n",
    "df_full = df_full[['aux_columns_of_ones','gender','age','educational-num','hours-per-week']]\n",
    "df_200_samples=df_full.sample(n = 200)\n",
    "df_200_samples.head()"
   ]
  },
  {
   "cell_type": "markdown",
   "metadata": {},
   "source": [
    "### Secition 1\n",
    "#### a"
   ]
  },
  {
   "cell_type": "code",
   "execution_count": 82,
   "metadata": {},
   "outputs": [
    {
     "name": "stdout",
     "output_type": "stream",
     "text": [
      "CI per beta\n",
      "{'beta_0': [29.84978834202346, 30.067421986730622],\n",
      " 'beta_1': [2.533628201390936, 2.624463156125353],\n",
      " 'beta_2': [0.09856321560764526, 0.1019528953875481],\n",
      " 'beta_3': [0.6685922676214852, 0.6847494118483374]}\n"
     ]
    }
   ],
   "source": [
    "def create_targets_and_lables(df_data):\n",
    "    X=df_data.iloc[:, 0:df_data.shape[1]-1].values\n",
    "    Y=df_data.iloc[:, df_data.shape[1]-1:].values\n",
    "    return X,Y\n",
    "\n",
    "def estimate_beta(df_data):\n",
    "    X,Y =create_targets_and_lables(df_data)\n",
    "    beta_est=((np.linalg.pinv(X.T@X))@X.T)@Y\n",
    "    return beta_est\n",
    "  \n",
    "\n",
    "X_sampled,Y_sampled=create_targets_and_lables(df_200_samples)\n",
    "beta_est_200=estimate_beta(df_200_samples)\n",
    "\n",
    "Y_pred = X_sampled@beta_est_200\n",
    "\n",
    "# Initiate matrix of 0's, fill diagonal with each predicted observation's variance\n",
    "V = np.diagflat(np.product(Y_pred, axis=1))\n",
    "\n",
    "var_est = np.linalg.inv(X_sampled.T @ V @ X_sampled)\n",
    "\n",
    "CI_on_cov_matrix={}\n",
    "z_quantile=norm.ppf(1-0.05/2)\n",
    "for i,beta in enumerate(beta_est_200):\n",
    "    CI_on_cov_matrix[\"beta_{}\".format(i)]=[beta[0]-z_quantile*math.sqrt(var_est[i][i]),beta[0]+z_quantile*math.sqrt(var_est[i][i])]\n",
    "    \n",
    "print('CI per beta')\n",
    "pprint.pprint(CI_on_cov_matrix)    "
   ]
  },
  {
   "cell_type": "markdown",
   "metadata": {},
   "source": [
    "##### b"
   ]
  },
  {
   "cell_type": "markdown",
   "metadata": {},
   "source": [
    "In Linear Regression MLE for variance is MS Residuals"
   ]
  },
  {
   "cell_type": "code",
   "execution_count": 83,
   "metadata": {},
   "outputs": [
    {
     "name": "stdout",
     "output_type": "stream",
     "text": [
      "CI per beta\n",
      "{'beta_0': [28.76286685992696, 31.154343468827122],\n",
      " 'beta_1': [1.3833073743080617, 3.7747839832082275],\n",
      " 'beta_2': [-1.0954802489524862, 1.2959963599476796],\n",
      " 'beta_3': [-0.5190674647151716, 1.8724091441849942]}\n"
     ]
    }
   ],
   "source": [
    "# esimates standart error of Linear Regression error(epsilon) using bootstrap\n",
    "def estimate_se_via_bootstrap(df,B,n=150):\n",
    "    sampled_se_list=[]\n",
    "    for i in range(B):\n",
    "        df=df.sample(n, replace=True)\n",
    "        X,Y=create_targets_and_lables(df)\n",
    "        n_p=X.shape[0]-X.shape[1]\n",
    "        beta_est=estimate_beta(df)\n",
    "        Y_est=X@beta_est\n",
    "        var_est=np.sum(np.square(Y-Y_est))/n_p\n",
    "        sampled_se_list.append(np.sqrt(var_est))\n",
    "    return np.sqrt(np.mean(sampled_se_list))\n",
    "\n",
    "\n",
    "se_est = estimate_se_via_bootstrap(df_200_samples,B=400)\n",
    "\n",
    "\n",
    "CI_bootstrap={}\n",
    "z_quantile=norm.ppf(1-0.05/2)\n",
    "\n",
    "for i,beta in enumerate(beta_est_200):\n",
    "    CI_bootstrap[\"beta_{}\".format(i)]=[beta[0]-z_quantile*se_est,beta[0]+z_quantile*se_est]\n",
    "    \n",
    "print('CI per beta')\n",
    "pprint.pprint(CI_bootstrap)  "
   ]
  },
  {
   "cell_type": "markdown",
   "metadata": {},
   "source": [
    "#### c\n",
    "Pivotal CI from lecture when the distribution is unknown: $[2\\hat{\\theta_{n}}-\\hat{\\theta^*_{1-\\alpha/2}},2\\hat{\\theta_{n}}+\\hat{\\theta^*_{\\alpha/2}}]$"
   ]
  },
  {
   "cell_type": "code",
   "execution_count": 84,
   "metadata": {
    "scrolled": true
   },
   "outputs": [
    {
     "name": "stdout",
     "output_type": "stream",
     "text": [
      "CI per beta\n",
      "{'beta_0': [25.63975333957478, 60.12707618768959],\n",
      " 'beta_1': [-8.688062488644587, 0.08797140766806422],\n",
      " 'beta_2': [-1.0465630755041868, -0.5687146582359874],\n",
      " 'beta_3': [-1.8334715073441372, -0.06855360395734555]}\n"
     ]
    }
   ],
   "source": [
    "# estimation of CI of weights (betas) in Linear Regression using bootstrap and Pivot method for estimation.\n",
    "def estimate_betas_via_pivot_method(df,B):\n",
    "    sampled_betas=[]\n",
    "    X,Y=create_targets_and_lables(df)\n",
    "    beta_est=estimate_beta(df)\n",
    "    n=200\n",
    "#     sample betas using bootstrap \n",
    "    for i in range(B):\n",
    "        df=df.sample(n, replace=True)\n",
    "        X,Y=create_targets_and_lables(df)\n",
    "        beta=estimate_beta(df)\n",
    "        beta = [item for sublist in beta for item in sublist]\n",
    "        sampled_betas.append(beta)\n",
    "        \n",
    "    CI={}\n",
    "#     generate CI using pivot method\n",
    "    for i in range(len(beta_est)):\n",
    "#         samples of beta_i corresponding to beta_i that estimated from original df of 200 samples\n",
    "        sampled_beta_i=[betas[i] for betas in sampled_betas]\n",
    "        sampled_beta_i.sort()\n",
    "        alpha=0.05\n",
    "        upper_percentile=int((alpha/2)*B)\n",
    "        lower_percentile=int((1-alpha/2)*B)\n",
    "        ci=[2*beta_est[i][0]-sampled_beta_i[lower_percentile],2*beta_est[i][0]+sampled_beta_i[upper_percentile]]\n",
    "        CI[\"beta_{}\".format(i)]=ci\n",
    "\n",
    "\n",
    "    print('CI per beta')\n",
    "    pprint.pprint(CI)\n",
    "    return CI\n",
    "\n",
    "CI_pivot=estimate_betas_via_pivot_method(df_200_samples,B=400)\n",
    "\n",
    "\n"
   ]
  },
  {
   "cell_type": "markdown",
   "metadata": {},
   "source": [
    "### Secition 2"
   ]
  },
  {
   "cell_type": "code",
   "execution_count": 85,
   "metadata": {},
   "outputs": [
    {
     "name": "stdout",
     "output_type": "stream",
     "text": [
      "CI per beta\n",
      "{'beta_0': [-0.822489357999423, 2.918675122120325],\n",
      " 'beta_1': [0.8779759799691584, 6.740925559126089],\n",
      " 'beta_2': [-1.888888888930306, -0.29727971028843986],\n",
      " 'beta_3': [-4.444444444641773, 3.4419401792821778]}\n"
     ]
    }
   ],
   "source": [
    "# estimation of CI of weights (betas) in Linear Regression using bootstrap and Pivot method for estimation.\n",
    "def estimate_betas_via_quantiles_method(df,B):\n",
    "    sampled_betas=[]\n",
    "    X,Y=create_targets_and_lables(df)\n",
    "    beta_est=estimate_beta(df)\n",
    "    n=200\n",
    "    for i in range(B):\n",
    "        df=df.sample(n, replace=True)\n",
    "        X,Y=create_targets_and_lables(df)\n",
    "        beta=estimate_beta(df)\n",
    "        sampled_betas.append(beta) \n",
    "        \n",
    "    alpha=0.05\n",
    "    CI={}\n",
    "    for i in range(len(beta_est)):\n",
    "        sampled_beta_i=[betas[i][0] for betas in sampled_betas]\n",
    "        sampled_beta_i.sort()\n",
    "        quantile_lower=sampled_beta_i[int((alpha/2)*n)]\n",
    "        quantile_upper=sampled_beta_i[int((1-alpha/2)*n)]\n",
    "        CI[\"beta_{}\".format(i)]=[quantile_lower,quantile_upper]\n",
    "    \n",
    "    print('CI per beta')\n",
    "    pprint.pprint(CI)\n",
    "    return CI\n",
    "\n",
    "CI_quantiles=estimate_betas_via_quantiles_method(df_200_samples,B=400)"
   ]
  },
  {
   "cell_type": "code",
   "execution_count": 10,
   "metadata": {},
   "outputs": [
    {
     "name": "stdout",
     "output_type": "stream",
     "text": [
      "Using covariance matrix is :\n",
      "beta_0 ci length = 0.23139253720485442\n",
      "beta_1 ci length = 0.10162196014054814\n",
      "beta_2 ci length = 0.0031715199267053212\n",
      "beta_3 ci length = 0.016556218655839672\n",
      "--------------------------------------------------\n",
      "bootstrap to estimate s.e is :\n",
      "beta_0 ci length = 3.635632702135588\n",
      "beta_1 ci length = 3.6356327021355908\n",
      "beta_2 ci length = 3.635632702135591\n",
      "beta_3 ci length = 3.6356327021355916\n",
      "--------------------------------------------------\n",
      "Using pivot method is :\n",
      "beta_0 ci length = -163.1814317999552\n",
      "beta_1 ci length = 93.12089880564693\n",
      "beta_2 ci length = 2.3474097044905804\n",
      "beta_3 ci length = 20.079989055084177\n",
      "--------------------------------------------------\n",
      "Using quantiles method is :\n",
      "beta_0 ci length = 32.185628259976\n",
      "beta_1 ci length = 11.860790698205022\n",
      "beta_2 ci length = 0.3184796278049318\n",
      "beta_3 ci length = 0.37030229312539653\n",
      "--------------------------------------------------\n",
      "\n",
      "\n",
      "Now we'll check if beta is in the ci:\n",
      "\n",
      "For CI calc. with cov. matrix:\n",
      "--------------------------------------------------------------------------------\n",
      "beta_0 = [27.53193839] not in CI =[23.517890139272843, 23.749282676477698]\n",
      "beta_1 = [5.75608024] not in CI =[7.242113061067937, 7.343735021208485]\n",
      "beta_2 = [0.07104689] not in CI =[0.04863924811369689, 0.05181076804040221]\n",
      "beta_3 = [0.67023432] not in CI =[1.0078167414661525, 1.0243729601219922]\n",
      "--------------------------------------------------------------------------------\n",
      "For CI calc. with bootstrap:\n",
      "--------------------------------------------------------------------------------\n",
      "beta_0 = [27.53193839] not in CI =[21.815770056807477, 25.451402758943065]\n",
      "beta_1 = [5.75608024] is in CI =[5.475107690070415, 9.110740392206006]\n",
      "beta_2 = [0.07104689] is in CI =[-1.767591342990746, 1.8680413591448453]\n",
      "beta_3 = [0.67023432] is in CI =[-0.8017215002737232, 2.833911201861868]\n",
      "--------------------------------------------------------------------------------\n",
      "For CI calc. with pivot method:\n",
      "--------------------------------------------------------------------------------\n",
      "beta_0 = [27.53193839] not in CI =[11.948604615245287, -151.23282718470992]\n",
      "beta_1 = [5.75608024] is in CI =[-72.41415191774439, 20.706746887902547]\n",
      "beta_2 = [0.07104689] not in CI =[-9.149549983849173, -6.802140279358593]\n",
      "beta_3 = [0.67023432] not in CI =[-23.79779935350168, -3.7178102984175023]\n",
      "--------------------------------------------------------------------------------\n",
      "For CI calc. with quantiles method:\n",
      "--------------------------------------------------------------------------------\n",
      "beta_0 = [27.53193839] not in CI =[-32.17047514567176, 0.015153114304237908]\n",
      "beta_1 = [5.75608024] not in CI =[-11.845637583900784, 0.01515311430423829]\n",
      "beta_2 = [0.07104689] not in CI =[0.4128654561026115, 0.7313450839075433]\n",
      "beta_3 = [0.67023432] not in CI =[-0.2360351459818686, 0.13426714714352794]\n",
      "--------------------------------------------------------------------------------\n"
     ]
    }
   ],
   "source": [
    "len_ci_cov_matrix=[ci[1]-ci[0] for beta,ci in CI_on_cov_matrix.items()]\n",
    "len_ci_bootstrap=[ci[1]-ci[0] for beta,ci in CI_bootstrap.items()]\n",
    "len_ci_pivot=[ci[1]-ci[0] for beta,ci in CI_pivot.items()]\n",
    "len_ci_quantiles=[ci[1]-ci[0] for beta,ci in CI_quantiles.items()]\n",
    "methods = [len_ci_cov_matrix,len_ci_bootstrap,len_ci_pivot,len_ci_quantiles]\n",
    "methods_name = ['Using covariance matrix is :', 'bootstrap to estimate s.e is :', 'Using pivot method is :', 'Using quantiles method is :']\n",
    "\n",
    "\n",
    "for index, method in enumerate(methods):\n",
    "    print('{}'.format(methods_name[index]))\n",
    "    for i in range(len(len_ci_cov_matrix)):\n",
    "        print('beta_{} ci length = {}'.format(i, method[i]))\n",
    "    print('-'*50)\n",
    "        \n",
    "        \n",
    "beta_est_full_df=estimate_beta(df_full)\n",
    "\n",
    "def check_beta_in_ci(CI):\n",
    "    for i in range(len(beta_est_full_df)):\n",
    "        if CI[\"beta_{}\".format(i)][0] <=beta_est_full_df[i]<=CI[\"beta_{}\".format(i)][1]:\n",
    "            print (\"beta_{} = {} is in CI ={}\".format(i,beta_est_full_df[i],CI[\"beta_{}\".format(i)]))\n",
    "        else:\n",
    "            print (\"beta_{} = {} not in CI ={}\".format(i,beta_est_full_df[i],CI[\"beta_{}\".format(i)]))\n",
    "print()\n",
    "print()\n",
    "print(\"Now we'll check if beta is in the ci:\")\n",
    "print()\n",
    "print('For CI calc. with cov. matrix:')\n",
    "print('-'*80)\n",
    "check_beta_in_ci(CI_on_cov_matrix)\n",
    "print('-'*80)\n",
    "print('For CI calc. with bootstrap:')\n",
    "print('-'*80)\n",
    "check_beta_in_ci(CI_bootstrap)\n",
    "print('-'*80)\n",
    "print('For CI calc. with pivot method:')\n",
    "print('-'*80)\n",
    "check_beta_in_ci(CI_pivot)\n",
    "print('-'*80)\n",
    "print('For CI calc. with quantiles method:')\n",
    "print('-'*80)\n",
    "check_beta_in_ci(CI_quantiles)\n",
    "print('-'*80)"
   ]
  },
  {
   "cell_type": "markdown",
   "metadata": {},
   "source": [
    "### Secition 3\n",
    "#### a."
   ]
  },
  {
   "cell_type": "code",
   "execution_count": 108,
   "metadata": {},
   "outputs": [
    {
     "name": "stdout",
     "output_type": "stream",
     "text": [
      "The predicted labels are: [41.36231966 43.54033312 44.74342979 41.13413979 38.63021662 38.93099078\n",
      " 41.13413979 36.6002041  42.13672034 40.63537773 44.01648785 45.0190684\n",
      " 45.04391981 42.31210091 42.33723645 38.93099078 40.83589384 41.03388173\n",
      " 41.03388173 42.2369784  45.44523617 42.21184285 46.24701648 44.24185537\n",
      " 40.4826045  45.59519705 41.43744217 42.03646229 43.28954591 44.56776508\n",
      " 45.14446201 42.13672034 41.28691302 45.54521009 47.32471954 44.54262954\n",
      " 41.05930142 39.35715855 48.47754511 38.73047467 40.4323334  38.60283699\n",
      " 38.05380383 42.71313313 41.136668   46.04650037 40.30946801 45.44495204\n",
      " 45.04391981 40.00869384 47.29958399 42.16438411 41.30952035 41.46257772\n",
      " 43.64030704 38.95612633 46.42239704 43.04128692 42.13672034 40.13408745\n",
      " 41.36203552 41.03388173 39.53253912 42.83852673 43.33981701 42.13672034\n",
      " 38.73047467 42.83852673 40.40972607 42.33976467 40.56025522 40.25948105\n",
      " 40.2846166  40.93615189 39.17924978 47.29958399 39.65793272 42.06384191\n",
      " 41.63543007 41.76306775 47.5001001  42.38722341 43.64059118 45.04391981\n",
      " 42.61287507 45.64546815 41.03388173 42.63801062 46.6480487  41.53517201\n",
      " 44.74314565 41.91106868 41.3346559  43.11416535 47.19932594 44.04133926\n",
      " 41.10900424 40.81075829 47.02394537 43.28954591]\n"
     ]
    }
   ],
   "source": [
    "# Substruct from full data the 200 samples from previous sections.\n",
    "df_without_sub_sample=df_full.drop(df_200_samples.index)\n",
    "df_100_samples=df_without_sub_sample.sample(n = 100)\n",
    "X_new,Y_new=create_targets_and_lables(df_100_samples)\n",
    "\n",
    "Y_pred_100=X_new@beta_est_200\n",
    "print('The predicted labels are: {}'.format(Y_pred_100.T[0]))"
   ]
  },
  {
   "cell_type": "markdown",
   "metadata": {},
   "source": [
    "#### b+c"
   ]
  },
  {
   "cell_type": "code",
   "execution_count": 109,
   "metadata": {},
   "outputs": [
    {
     "name": "stdout",
     "output_type": "stream",
     "text": [
      "Percent of times the true value is in CI = 6.0%\n"
     ]
    }
   ],
   "source": [
    "z=norm.ppf(1-0.05/2)\n",
    "\n",
    "#Estimate s.e of epsilon using bootstrap method as in section 1.b\n",
    "se_est = estimate_se_via_bootstrap(df_100_samples,B=400)\n",
    "C=np.linalg.inv(X_new.T@X_new)\n",
    "\n",
    "CI={}\n",
    "num_of_y_in_CI=0\n",
    "\n",
    "#Calculate CI for each predicted y.\n",
    "for i,y_pred in enumerate(Y_pred_100): \n",
    "    se_of_expected_val=math.sqrt((se_est**2)*X_new[i].T@C@X_new[i])\n",
    "    CI[i]=[y_pred[0]-z*se_of_expected_val,y_pred[0]+z*se_of_expected_val]\n",
    "    if CI[i][0]<=Y_new[i][0]<=CI[i][1]:\n",
    "        num_of_y_in_CI+=1\n",
    "        \n",
    "percent=(num_of_y_in_CI/len(Y_new))*100\n",
    "print('Percent of times the true value is in CI = {}%'.format(percent))"
   ]
  },
  {
   "cell_type": "markdown",
   "metadata": {},
   "source": [
    "A 95% confidence interval means that if we were to take 100 different samples and compute a 95% confidence interval for each sample, then approximately 95 of the 100 confidence intervals will contain the true value.\n",
    "\n",
    "Percent we got is very low, not even close to 95%. It means our estimations are bad.\n"
   ]
  },
  {
   "cell_type": "markdown",
   "metadata": {},
   "source": [
    "#### d."
   ]
  },
  {
   "cell_type": "markdown",
   "metadata": {},
   "source": [
    "When we want to find PI (רווח תחזית) for $Y_{new} $ we add variance of single sample to the variance variable. Such that $ var(y_{new}|x_{new})=\\sigma^2_{\\epsilon}*X_{new}^T*C*X_{new}+\\sigma^2_{\\epsilon} $\n",
    "\n",
    "Knowing that, we can estimate $ \\sigma_{\\epsilon} $ using one of the methods from section 1, and compute the PI"
   ]
  },
  {
   "cell_type": "markdown",
   "metadata": {},
   "source": [
    "# Part B\n",
    "\n",
    "### Section 1\n",
    "\n",
    "#### Our question is:\n",
    "Is value distribution of age among people who earn more(>50K) necessarily higher than the age of people who earn less (<=50K)?\n",
    "X- age Y-income"
   ]
  },
  {
   "cell_type": "markdown",
   "metadata": {},
   "source": [
    "### Section 2"
   ]
  },
  {
   "cell_type": "code",
   "execution_count": 13,
   "metadata": {},
   "outputs": [
    {
     "data": {
      "text/html": [
       "<div>\n",
       "<style scoped>\n",
       "    .dataframe tbody tr th:only-of-type {\n",
       "        vertical-align: middle;\n",
       "    }\n",
       "\n",
       "    .dataframe tbody tr th {\n",
       "        vertical-align: top;\n",
       "    }\n",
       "\n",
       "    .dataframe thead th {\n",
       "        text-align: right;\n",
       "    }\n",
       "</style>\n",
       "<table border=\"1\" class=\"dataframe\">\n",
       "  <thead>\n",
       "    <tr style=\"text-align: right;\">\n",
       "      <th></th>\n",
       "      <th>age</th>\n",
       "      <th>workclass</th>\n",
       "      <th>fnlwgt</th>\n",
       "      <th>education</th>\n",
       "      <th>educational-num</th>\n",
       "      <th>marital-status</th>\n",
       "      <th>occupation</th>\n",
       "      <th>relationship</th>\n",
       "      <th>race</th>\n",
       "      <th>gender</th>\n",
       "      <th>capital-gain</th>\n",
       "      <th>capital-loss</th>\n",
       "      <th>hours-per-week</th>\n",
       "      <th>native-country</th>\n",
       "      <th>income</th>\n",
       "    </tr>\n",
       "  </thead>\n",
       "  <tbody>\n",
       "    <tr>\n",
       "      <th>9221</th>\n",
       "      <td>40</td>\n",
       "      <td>Private</td>\n",
       "      <td>60594</td>\n",
       "      <td>Some-college</td>\n",
       "      <td>10</td>\n",
       "      <td>Divorced</td>\n",
       "      <td>Other-service</td>\n",
       "      <td>Unmarried</td>\n",
       "      <td>White</td>\n",
       "      <td>0</td>\n",
       "      <td>0</td>\n",
       "      <td>0</td>\n",
       "      <td>30</td>\n",
       "      <td>United-States</td>\n",
       "      <td>0</td>\n",
       "    </tr>\n",
       "    <tr>\n",
       "      <th>17033</th>\n",
       "      <td>58</td>\n",
       "      <td>Self-emp-not-inc</td>\n",
       "      <td>87510</td>\n",
       "      <td>10th</td>\n",
       "      <td>6</td>\n",
       "      <td>Married-civ-spouse</td>\n",
       "      <td>Craft-repair</td>\n",
       "      <td>Husband</td>\n",
       "      <td>White</td>\n",
       "      <td>1</td>\n",
       "      <td>0</td>\n",
       "      <td>0</td>\n",
       "      <td>40</td>\n",
       "      <td>United-States</td>\n",
       "      <td>0</td>\n",
       "    </tr>\n",
       "    <tr>\n",
       "      <th>18406</th>\n",
       "      <td>24</td>\n",
       "      <td>Private</td>\n",
       "      <td>109307</td>\n",
       "      <td>HS-grad</td>\n",
       "      <td>9</td>\n",
       "      <td>Never-married</td>\n",
       "      <td>Sales</td>\n",
       "      <td>Own-child</td>\n",
       "      <td>White</td>\n",
       "      <td>1</td>\n",
       "      <td>0</td>\n",
       "      <td>0</td>\n",
       "      <td>45</td>\n",
       "      <td>United-States</td>\n",
       "      <td>0</td>\n",
       "    </tr>\n",
       "    <tr>\n",
       "      <th>14217</th>\n",
       "      <td>47</td>\n",
       "      <td>Local-gov</td>\n",
       "      <td>179048</td>\n",
       "      <td>HS-grad</td>\n",
       "      <td>9</td>\n",
       "      <td>Never-married</td>\n",
       "      <td>Craft-repair</td>\n",
       "      <td>Not-in-family</td>\n",
       "      <td>White</td>\n",
       "      <td>1</td>\n",
       "      <td>0</td>\n",
       "      <td>0</td>\n",
       "      <td>40</td>\n",
       "      <td>United-States</td>\n",
       "      <td>0</td>\n",
       "    </tr>\n",
       "    <tr>\n",
       "      <th>30673</th>\n",
       "      <td>34</td>\n",
       "      <td>Private</td>\n",
       "      <td>344275</td>\n",
       "      <td>HS-grad</td>\n",
       "      <td>9</td>\n",
       "      <td>Never-married</td>\n",
       "      <td>Transport-moving</td>\n",
       "      <td>Not-in-family</td>\n",
       "      <td>White</td>\n",
       "      <td>1</td>\n",
       "      <td>0</td>\n",
       "      <td>0</td>\n",
       "      <td>70</td>\n",
       "      <td>United-States</td>\n",
       "      <td>0</td>\n",
       "    </tr>\n",
       "  </tbody>\n",
       "</table>\n",
       "</div>"
      ],
      "text/plain": [
       "       age         workclass  fnlwgt     education  educational-num  \\\n",
       "9221    40           Private   60594  Some-college               10   \n",
       "17033   58  Self-emp-not-inc   87510          10th                6   \n",
       "18406   24           Private  109307       HS-grad                9   \n",
       "14217   47         Local-gov  179048       HS-grad                9   \n",
       "30673   34           Private  344275       HS-grad                9   \n",
       "\n",
       "           marital-status        occupation   relationship   race  gender  \\\n",
       "9221             Divorced     Other-service      Unmarried  White       0   \n",
       "17033  Married-civ-spouse      Craft-repair        Husband  White       1   \n",
       "18406       Never-married             Sales      Own-child  White       1   \n",
       "14217       Never-married      Craft-repair  Not-in-family  White       1   \n",
       "30673       Never-married  Transport-moving  Not-in-family  White       1   \n",
       "\n",
       "       capital-gain  capital-loss  hours-per-week native-country  income  \n",
       "9221              0             0              30  United-States       0  \n",
       "17033             0             0              40  United-States       0  \n",
       "18406             0             0              45  United-States       0  \n",
       "14217             0             0              40  United-States       0  \n",
       "30673             0             0              70  United-States       0  "
      ]
     },
     "execution_count": 13,
     "metadata": {},
     "output_type": "execute_result"
    }
   ],
   "source": [
    "# Deprocations of jupyter warnings about sns functions that will be deprocated in the future. (sns.distplot)\n",
    "import warnings\n",
    "warnings.filterwarnings('ignore')\n",
    "\n",
    "#Reading a CSV file into pandas Dataframe\n",
    "import pandas as pd\n",
    "import numpy as np\n",
    "import math \n",
    "import matplotlib.pyplot as plt\n",
    "import random\n",
    "from scipy.stats import f\n",
    "from scipy.stats import norm\n",
    "import pprint\n",
    "import sys\n",
    "\n",
    "random.seed(1)\n",
    "# Removing missing values\n",
    "missing_values = [\"n/a\", \"na\", \"--\",\"?\"]\n",
    "df_full = pd.read_csv(\"adult.csv\",sep=\",\", na_values = missing_values)\n",
    "df_full=df_full.dropna()\n",
    "\n",
    "# Converting string columns to binary.\n",
    "df_full['gender'] =df_full['gender'].map({'Female': 0, 'Male': 1})\n",
    "df_full['income'] = df_full['income'].map({'>50K': 1, '<=50K': 0})\n",
    "\n",
    "df_200_samples=df_full.sample(n = 200)\n",
    "df_200_samples.head()"
   ]
  },
  {
   "cell_type": "markdown",
   "metadata": {},
   "source": [
    "### Section 3.a\n",
    "\n",
    "$ \\mu_{1}= $ expected value of age in income category (>50K) \n",
    "\n",
    "$ \\mu_{2}= $ expected value of age in income category (<=50K) \n",
    "\n",
    "$ \\delta=\\mu_{1}-\\mu_{2} $\n",
    "\n",
    " MLE for $\\mu$ is $\\bar{X} $ \n",
    "\n",
    "calculating MLE for $ \\delta$:\n",
    "\n",
    " ->  MLE for  $\\delta$ is  $\\bar{X_1}-\\bar{X_2} $\n"
   ]
  },
  {
   "cell_type": "code",
   "execution_count": 14,
   "metadata": {},
   "outputs": [
    {
     "name": "stdout",
     "output_type": "stream",
     "text": [
      "MLE of mu1 is 44.57142857142857, MLE of mu2 is 36.503311258278146 \n",
      "MLE of delta is 8.068117313150424\n"
     ]
    }
   ],
   "source": [
    "# MLE of the expected value of 'age' according to categories in 'income' \n",
    "EV_MLE_1=df_200_samples.groupby('income')['age'].mean()[1]\n",
    "EV_MLE_2=df_200_samples.groupby('income')['age'].mean()[0]\n",
    "\n",
    "delta_MLE=EV_MLE_1-EV_MLE_2\n",
    "\n",
    "print(\"MLE of mu1 is {}, MLE of mu2 is {} \".format(EV_MLE_1,EV_MLE_2))\n",
    "print(\"MLE of delta is {}\".format(delta_MLE))"
   ]
  },
  {
   "cell_type": "markdown",
   "metadata": {},
   "source": [
    "### Section 3.b\n",
    "$s_p=\\sqrt{((n_1-1)*s_1^2+(n_2-1)*s_2^2)\\div(n_1+n_2-2)}$\n",
    "\n",
    "$ s.e = \\sqrt{(s_p^2/n_1)+(s_p^2/n_2)}$\n",
    "\n",
    "$ CI = [\\delta \\pm t*s.e] $ "
   ]
  },
  {
   "cell_type": "code",
   "execution_count": 15,
   "metadata": {},
   "outputs": [
    {
     "name": "stdout",
     "output_type": "stream",
     "text": [
      "Confidence interval of expectation difference (delta): [4.611872876482428, 11.52436174981842]\n"
     ]
    }
   ],
   "source": [
    "# SE of the expected value of 'age' according to categories in 'income'\n",
    "SE_1=df_200_samples.groupby('income')['age'].std()[1]\n",
    "SE_2=df_200_samples.groupby('income')['age'].std()[0]\n",
    "# number of samples from each catecory\n",
    "n1=int(df_200_samples.groupby('income')['age'].count()[1])\n",
    "n2=int(df_200_samples.groupby('income')['age'].count()[0])\n",
    "\n",
    "s_p=np.sqrt(((n1-1)*(SE_1**2)+(n2-1)*(SE_2**2))/(n1+n2-2))\n",
    "\n",
    "delta_se=np.sqrt((s_p**2/n1)+(s_p**2/n2))\n",
    "\n",
    "t_crit = t.ppf(q=0.95, df=n1+n2-2)\n",
    "\n",
    "#Calc CIs of expected value of age by income category\n",
    "lower_bound=delta_MLE-t_crit*delta_se\n",
    "upper_bound=delta_MLE+t_crit*delta_se\n",
    "CI=[lower_bound,upper_bound]\n",
    "\n",
    "\n",
    "\n",
    "print(\"Confidence interval of expectation difference (delta): {}\".format(CI))"
   ]
  },
  {
   "cell_type": "markdown",
   "metadata": {},
   "source": [
    "### Section 3.c"
   ]
  },
  {
   "cell_type": "code",
   "execution_count": 16,
   "metadata": {},
   "outputs": [
    {
     "name": "stdout",
     "output_type": "stream",
     "text": [
      "MLE of delta using all samples is 7.256640388281987\n",
      "MLE of delta using all samples is inside the CI constructed form 200 samples\n"
     ]
    }
   ],
   "source": [
    "# MLE of the expected value of 'age' according to categories in 'income' \n",
    "EV_MLE_1=df_full.groupby('income')['age'].mean()[1]\n",
    "EV_MLE_2=df_full.groupby('income')['age'].mean()[0]\n",
    "\n",
    "delta_MLE_all_samples=EV_MLE_1-EV_MLE_2\n",
    "\n",
    "print(\"MLE of delta using all samples is {}\".format(delta_MLE_all_samples))\n",
    "\n",
    "if CI[0]<=delta_MLE_all_samples<=CI[1]:\n",
    "    print('MLE of delta using all samples is inside the CI constructed form 200 samples')\n",
    "else:\n",
    "    print('MLE of delta using all samples is not inside the CI constructed form 200 samples')"
   ]
  },
  {
   "cell_type": "markdown",
   "metadata": {},
   "source": [
    "### Section 3.d\n",
    "\n",
    "Test the hypothesis using the Permutations test\n",
    "\n",
    "$ H_0: F_X=F_Y $\n",
    "\n",
    "$ H_1:  F_X<F_Y $\n",
    "\n",
    "T.S: $\\hat{\\mu_1}-\\hat{\\mu_2}=\\bar{X_1}-\\bar{X_2}$\n",
    "\n",
    "Pval:  #${1_{(T_j>=T_0)}} \\div{n1+n2 \\choose n1}$ \n",
    "\n",
    "Permutation Test:\n",
    "1. Compute the difference (mean) of sample x and sample y\n",
    "2. Combine all measurements into a single dataset\n",
    "3. Draw a permuted dataset from all possible permutations of the dataset in 2.\n",
    "4. Divide the permuted dataset into two datasets x' and y' of size n and m, respectively\n",
    "5. Compute the difference (here: mean) of sample x' and sample y' and record this difference\n",
    "6. Repeat steps 3-5 until all permutations are evaluated\n",
    "7. Return the p-value as the number of times the recorded differences were at least as extreme as the original difference from 1. and divide this number by the total number of permutations\n"
   ]
  },
  {
   "cell_type": "code",
   "execution_count": 17,
   "metadata": {},
   "outputs": [
    {
     "name": "stdout",
     "output_type": "stream",
     "text": [
      "P value is 0.0009000000 \n",
      "We reject the null hypothesis.\n"
     ]
    }
   ],
   "source": [
    "from statistics import mean\n",
    "from math import comb\n",
    "\n",
    "# computes all possible permutations of 200 samples, for each permutation calculates new delta.\n",
    "# computes number of times that permutation delta is higher the the MLE delta from per sections and finnaly return the P value.\n",
    "def permutation_test(n,m,delta,num_of_permutations):\n",
    "    values=df_200_samples['age'].values.tolist()\n",
    "    permutations=[]\n",
    "    counter=0\n",
    "    iterations=num_of_permutations\n",
    "    while iterations>0:\n",
    "        control=random.sample(values, n1)\n",
    "        treatment=[item for item in values if item not in control]\n",
    "        if control in permutations:\n",
    "            continue\n",
    "        else:\n",
    "            iterations-=1\n",
    "            mean_treatment=mean(treatment)\n",
    "            mean_control=mean(control)\n",
    "            new_delta=mean_control-mean_treatment\n",
    "            if new_delta>=delta:\n",
    "                counter+=1\n",
    "    p_val=counter/num_of_permutations\n",
    "    return p_val\n",
    " \n",
    "p_value=permutation_test(n1,n2,delta_MLE,10000) \n",
    "print(\"P value is {0:.10f} \".format(p_value))\n",
    "if p_value<0.05:\n",
    "      print(\"We reject the null hypothesis.\")\n",
    "else:\n",
    "    print(\"The null hypothesis cant be rejected.\")"
   ]
  },
  {
   "cell_type": "markdown",
   "metadata": {},
   "source": [
    "As seen, we rejected the null hypothesis on both tests, therefore, the distribution of age among people who earn more(>50K) is higher than the age of people who earn less (<=50K)."
   ]
  },
  {
   "cell_type": "markdown",
   "metadata": {},
   "source": [
    "Walt test:\n",
    "Formulation of the null hypothesis and the alternative.\n",
    "\n",
    "$H_0: \\delta=0 $\n",
    "\n",
    "$H_1: \\delta!=0 $\n",
    "\n",
    "Test the hypothesis using the Wald test.\n",
    "    W= $|\\hat{\\theta}-{\\theta_{0}}|/({\\hat{se}}) $\n",
    "   \n",
    "W= $(\\hat{\\mu_1}-\\hat{\\mu_2}-0)/(\\sqrt{(\\hat{se_{1}^2}+\\hat{se_{2}^2}}) $\n",
    "\n",
    "\n"
   ]
  },
  {
   "cell_type": "code",
   "execution_count": 18,
   "metadata": {},
   "outputs": [
    {
     "name": "stdout",
     "output_type": "stream",
     "text": [
      "The null hypothesis cant be rejected.\n"
     ]
    }
   ],
   "source": [
    "W= (delta_MLE)/math.sqrt(SE_1**2+SE_2**2)\n",
    "\n",
    "if abs(W)> norm.ppf(1-0.05/2):\n",
    "    print(\"We reject the null hypothesis.\")\n",
    "else:\n",
    "    print(\"The null hypothesis cant be rejected.\")"
   ]
  },
  {
   "cell_type": "markdown",
   "metadata": {},
   "source": [
    "### Section 4.a\n",
    "\n",
    "median: $P(X \\geq m)\\leq 1/2$ and $P(X\\leq m) \\geq 1/2$\n",
    "\n",
    "To estimate difference of two medians we can:\n",
    "1. get median of each category using numpy -np.median(df_per_category) and substuct the values.\n",
    "2. estimate each median using bootstrap, as we know that the median corresonds to quantile with alpha=0.5.\n",
    "\n",
    "Both ways we got the same result.\n",
    "We don't know what is the real distribution of our data, as well what is the distribution of the medians.\n",
    "Hence, we can't find what is the MLE for medians in our case. As we dont know the real MLE, we cant be sure that the results we got are the MLE."
   ]
  },
  {
   "cell_type": "code",
   "execution_count": 19,
   "metadata": {},
   "outputs": [
    {
     "name": "stdout",
     "output_type": "stream",
     "text": [
      "m1 = 44.5\n",
      "m2 = 34.0\n",
      "delta = 10.5\n"
     ]
    }
   ],
   "source": [
    "def estimate_median(sampled_medians,B):\n",
    "    #     get medians corresponding to alpha=0.5 \n",
    "    sampled_medians.sort()\n",
    "    idx=int(0.5*B)\n",
    "    m_estimated =sampled_medians[idx]\n",
    "    return m_estimated\n",
    "\n",
    "def bootstrap_medians(df,B,income):\n",
    "    sampled_medians=[]\n",
    "    values=df[df['income'] ==income]['age'].tolist()\n",
    "    m=np.median(values)\n",
    "    n=200\n",
    "    #     sample medians using bootstrap \n",
    "    for i in range(B):\n",
    "        df_i=df.sample(n, replace=True)\n",
    "        values_i=df_i[df_i['income'] ==income]['age'].tolist()\n",
    "        m_est=np.median(values_i)\n",
    "        sampled_medians.append(m_est)\n",
    "    return estimate_median(sampled_medians,B)\n",
    "m1=bootstrap_medians(df_200_samples,B=400,income=1)\n",
    "print('m1 = {}'.format(m1))\n",
    "m2=bootstrap_medians(df_200_samples,B=400,income=0)\n",
    "print('m2 = {}'.format(m2))\n",
    "\n",
    "delta=m1-m2\n",
    "print('delta = {}'.format(delta))"
   ]
  },
  {
   "cell_type": "code",
   "execution_count": 20,
   "metadata": {},
   "outputs": [
    {
     "name": "stdout",
     "output_type": "stream",
     "text": [
      "m1 = 44.0\n",
      "m2 = 34.0\n",
      "delta = 10.0\n"
     ]
    }
   ],
   "source": [
    "#sanity check- esitimate delta using numpy\n",
    "values_i=df_200_samples[df_200_samples['income'] ==1]['age'].tolist()\n",
    "m11=np.median(values_i)\n",
    "print('m1 = {}'.format(m11))\n",
    "\n",
    "values_i=df_200_samples[df_200_samples['income'] ==0]['age'].tolist()\n",
    "m22=np.median(values_i)\n",
    "print('m2 = {}'.format(m22))\n",
    "\n",
    "delta2=m11-m22\n",
    "print('delta = {}'.format(delta2))"
   ]
  },
  {
   "cell_type": "markdown",
   "metadata": {},
   "source": [
    "### Section 4.b"
   ]
  },
  {
   "cell_type": "code",
   "execution_count": 21,
   "metadata": {},
   "outputs": [
    {
     "name": "stdout",
     "output_type": "stream",
     "text": [
      "Confidence interval of medians difference (delta): [6.0, 26.0]\n"
     ]
    }
   ],
   "source": [
    "def ci_using_pivot(sampled_vals,org_val,B):\n",
    "    alpha=0.05\n",
    "    sampled_vals.sort()\n",
    "    upper_percentile=int((alpha/2)*B)\n",
    "    lower_percentile=int((1-alpha/2)*B)\n",
    "    ci=[2*org_val-sampled_vals[lower_percentile],2*org_val+sampled_vals[upper_percentile]]\n",
    "    return ci\n",
    "    \n",
    "    \n",
    "def bootstrap_delta(df,B):\n",
    "    sampled_deltas=[]\n",
    "    values1=df[df['income'] ==1]['age'].tolist()\n",
    "    values2=df[df['income'] ==0]['age'].tolist()\n",
    "    m1=np.median(values1)\n",
    "    m2=np.median(values2)\n",
    "    delta=m1-m2\n",
    "    n=200\n",
    "    #     sample medians using bootstrap \n",
    "    for i in range(B):\n",
    "        df_i=df.sample(n, replace=True)\n",
    "        values1_i=df_i[df_i['income'] ==1]['age'].tolist()\n",
    "        values2_i=df_i[df_i['income'] ==0]['age'].tolist()\n",
    "        m1_est=np.median(values1_i)\n",
    "        m2_est=np.median(values2_i)\n",
    "        sampled_deltas.append(m1_est-m2_est)\n",
    "    ci= ci_using_pivot(sampled_deltas,delta,B)\n",
    "    print(\"Confidence interval of medians difference (delta): {}\".format(ci))\n",
    "    return ci\n",
    "\n",
    "CI_of_medians_diff=bootstrap_delta(df_200_samples,B=400)\n"
   ]
  },
  {
   "cell_type": "markdown",
   "metadata": {},
   "source": [
    "### Section 4.c"
   ]
  },
  {
   "cell_type": "code",
   "execution_count": 22,
   "metadata": {},
   "outputs": [
    {
     "name": "stdout",
     "output_type": "stream",
     "text": [
      "Estimation of delta using all samples is 8.5\n",
      "Estimation of delta using all samples is inside the CI constructed form 200 samples\n"
     ]
    }
   ],
   "source": [
    "# Estimation of the medians of 'age' according to categories in 'income' \n",
    "m1_all_samples=bootstrap_medians(df_full,B=400,income=1)\n",
    "m2_all_samples=bootstrap_medians(df_full,B=400,income=0)\n",
    "\n",
    "delta_all_samples=m1_all_samples-m2_all_samples\n",
    "\n",
    "print(\"Estimation of delta using all samples is {}\".format(delta_all_samples))\n",
    "\n",
    "if CI_of_medians_diff[0]<=delta_all_samples<=CI_of_medians_diff[1]:\n",
    "    print('Estimation of delta using all samples is inside the CI constructed form 200 samples')\n",
    "else:\n",
    "    print('Estimation of delta using all samples is not inside the CI constructed form 200 samples')"
   ]
  },
  {
   "cell_type": "markdown",
   "metadata": {},
   "source": [
    "### Section 4.d"
   ]
  },
  {
   "cell_type": "code",
   "execution_count": 48,
   "metadata": {},
   "outputs": [
    {
     "name": "stdout",
     "output_type": "stream",
     "text": [
      "P value is 0.0091000000 \n",
      "We reject the null hypothesis.\n"
     ]
    }
   ],
   "source": [
    "# computes all possible permutations of 200 samples, for each permutation calculates new delta.\n",
    "# computes number of times that permutation delta is higher the the MLE delta from per sections and finnaly return the P value.\n",
    "def permutation_test(n,m,delta,num_of_permutations):\n",
    "    values=df_200_samples['age'].values.tolist()\n",
    "    permutations=[]\n",
    "    counter=0\n",
    "    iterations=num_of_permutations\n",
    "    while iterations>0:\n",
    "        control=random.sample(values, n1)\n",
    "        treatment=[item for item in values if item not in control]\n",
    "        if control in permutations:\n",
    "            continue\n",
    "        else:\n",
    "            iterations-=1\n",
    "            median_treatment=np.median(treatment)\n",
    "            median_control=np.median(control)\n",
    "            new_delta=median_control-median_treatment\n",
    "            if new_delta>=delta:\n",
    "                counter+=1\n",
    "    p_val=counter/num_of_permutations\n",
    "    return p_val\n",
    " \n",
    "p_value=permutation_test(n1,n2,delta,10000) \n",
    "print(\"P value is {0:.10f} \".format(p_value))\n",
    "if p_value<0.05:\n",
    "      print(\"We reject the null hypothesis.\")\n",
    "else:\n",
    "    print(\"The null hypothesis cant be rejected.\")\n",
    "    \n"
   ]
  },
  {
   "cell_type": "markdown",
   "metadata": {},
   "source": [
    "As seen, we rejected the null hypothesis, therefore, the distribution of age among people who earn more(>50K) is higher than the age of people who earn less (<=50K)."
   ]
  },
  {
   "cell_type": "markdown",
   "metadata": {},
   "source": [
    "### Section 4.e\n",
    "\n",
    "\n",
    "1. The assumptions of the T test are not met. The distribution of the age for category income <=50K is not approximately normal, more like A chi-square. (We discussed it in project exercise 2) Therefore, we won't use T test. We can use T test, but the results would be meaningless.\n",
    "\n",
    "\n",
    "2. Walt test won't help us in this case as well, since the distribution of age isn't symmetrical (for income <=50), the median isn't necessarily close to the expectation so it is not approximately normal. So again, we could do wald test, but the results would be meaningless.\n"
   ]
  },
  {
   "cell_type": "code",
   "execution_count": 79,
   "metadata": {},
   "outputs": [
    {
     "data": {
      "image/png": "[encoded data removed]",
      "text/plain": [
       "<Figure size 432x288 with 1 Axes>"
      ]
     },
     "metadata": {
      "needs_background": "light"
     },
     "output_type": "display_data"
    }
   ],
   "source": [
    "import matplotlib.pyplot as plt\n",
    "import seaborn as sns\n",
    "fig, ax = plt.subplots()\n",
    "\n",
    "# Plot density distribution of age including mean and median\n",
    "sns.distplot(df_200_samples[df_200_samples['income'] ==0]['age'],kde=True, color='violet', label=\"income <=50K\")\n",
    "plt.axvline(x=df_200_samples[df_200_samples['income'] ==0]['age'].median(),color='purple',ls='--', lw=2, label='median for <=50K')\n",
    "plt.axvline(x=df_200_samples[df_200_samples['income'] ==0]['age'].mean(),color='purple',ls='-', lw=2, label='mean for <=50K')\n",
    "\n",
    "sns.distplot(df_200_samples[df_200_samples['income'] ==1]['age'],kde=True, color='limegreen', label=\"income >50K\")\n",
    "plt.axvline(x=df_200_samples[df_200_samples['income'] ==1]['age'].median(),color='green',ls='--', lw=2,label='median for >50K')\n",
    "plt.axvline(x=df_200_samples[df_200_samples['income'] ==1]['age'].mean(),color='green',ls='-', lw=2,label='mean for >50K')\n",
    "\n",
    "plt.title('Density Distribution of age per caterogry ')\n",
    "plt.legend()\n",
    "plt.show()"
   ]
  },
  {
   "cell_type": "markdown",
   "metadata": {},
   "source": [
    "### Section 5"
   ]
  },
  {
   "cell_type": "code",
   "execution_count": 50,
   "metadata": {},
   "outputs": [
    {
     "name": "stdout",
     "output_type": "stream",
     "text": [
      "P value is 0.0000000000 \n",
      "We reject the null hypothesis.\n"
     ]
    }
   ],
   "source": [
    "df_200_samples['rank'] = df_200_samples['age'].rank()\n",
    "ranks_of_X=df_200_samples[df_200_samples['income'] ==1]['rank'].tolist()\n",
    "s1=sum(ranks_of_X)\n",
    "\n",
    "def permutation_test(n,m,s1,num_of_permutations):\n",
    "    ranks=df_200_samples['rank'].values.tolist()\n",
    "    permutations=[]\n",
    "    counter=0\n",
    "    iterations=num_of_permutations\n",
    "    while iterations>0:\n",
    "        control_ranks=random.sample(ranks, n1)\n",
    "        if control_ranks  in permutations:\n",
    "            continue\n",
    "        else:\n",
    "            permutations.append(control_ranks)\n",
    "            iterations-=1\n",
    "            new_s1=sum(control_ranks)\n",
    "            if new_s1>=s1:\n",
    "                counter+=1\n",
    "    p_val=counter/num_of_permutations\n",
    "    return p_val\n",
    "    \n",
    "p_value=permutation_test(n1,n2,s1,10000) \n",
    "print(\"P value is {0:.10f} \".format(p_value))\n",
    "if p_value<0.05:\n",
    "      print(\"We reject the null hypothesis.\")\n",
    "else:\n",
    "    print(\"The null hypothesis cant be rejected.\")"
   ]
  },
  {
   "cell_type": "markdown",
   "metadata": {},
   "source": [
    "As seen, we rejected the null hypothesis on both tests, therefore, the distribution of age among people who earn more(>50K) is higher than the age of people who earn less (<=50K)."
   ]
  },
  {
   "cell_type": "markdown",
   "metadata": {},
   "source": [
    "*We can use normal approximation because number of samples is greater than 30 for each category of income.\n"
   ]
  },
  {
   "cell_type": "code",
   "execution_count": 51,
   "metadata": {},
   "outputs": [
    {
     "name": "stdout",
     "output_type": "stream",
     "text": [
      "T is 4.4639617640 \n",
      "We reject the null hypothesis.\n"
     ]
    }
   ],
   "source": [
    "def vilcoxon_test_norm_approx(n,m,s1):\n",
    "    expected_val=n*(1+n+m)/2\n",
    "    se=np.sqrt(n*m*(n+m+1)/12)\n",
    "    T=(s1-expected_val)/se\n",
    "    return T\n",
    "    \n",
    "T=vilcoxon_test_norm_approx(n1,n2,s1) \n",
    "print(\"T is {0:.10f} \".format(T))\n",
    "if T>= norm.ppf(0.05):\n",
    "      print(\"We reject the null hypothesis.\")\n",
    "else:\n",
    "    print(\"The null hypothesis cant be rejected.\")"
   ]
  },
  {
   "cell_type": "markdown",
   "metadata": {},
   "source": [
    "### Section 6"
   ]
  },
  {
   "cell_type": "markdown",
   "metadata": {},
   "source": [
    "Let's remind the relevant plot from previous exercise (2):"
   ]
  },
  {
   "cell_type": "code",
   "execution_count": 63,
   "metadata": {},
   "outputs": [
    {
     "data": {
      "image/png": "[encoded data removed]",
      "text/plain": [
       "<Figure size 432x288 with 1 Axes>"
      ]
     },
     "metadata": {
      "needs_background": "light"
     },
     "output_type": "display_data"
    },
    {
     "name": "stdout",
     "output_type": "stream",
     "text": [
      "mean age of people who earn >50 is 44.00606709493219\n",
      "mean age of people who earn <=50 is 36.749426706650205\n"
     ]
    }
   ],
   "source": [
    "df_full.groupby('income')['age'].hist()\n",
    "plt.legend(np.array([\"<=50K\", \">50K\"]))\n",
    "plt.xlabel('Age')\n",
    "plt.ylabel('Count')\n",
    "plt.title(\"Distribution of individuals age earning >50K and <=50K \")\n",
    "plt.show()\n",
    "\n",
    "print(\"mean age of people who earn >50 is {}\".format(df_full[df_full[\"income\"] ==1][\"age\"].mean()))\n",
    "print(\"mean age of people who earn <=50 is {}\".format(df_full[df_full[\"income\"] ==0][\"age\"].mean()))"
   ]
  },
  {
   "cell_type": "markdown",
   "metadata": {},
   "source": [
    "The results on Q3-Q5 were that there is a higher distribution of age among people who earn more(>50K) than the age of people who earn less (<=50K).\n",
    "\n",
    "In the graph, we can see the same result:\n",
    "\n",
    "We can see that the mean and median age of the people who earn more(>50K) is higher than the people who earn less (<=50K).\n",
    "\n",
    "In addition, we can see that the whole distribution of the people who earn more(>50K) is centered (and located in general) on right (=higher) to the distribution of the people who earn less (<=50K).\n",
    "\n",
    "In conclusion, we got results that matches the distribution of the age varibale in each category. "
   ]
  }
 ],
 "metadata": {
  "kernelspec": {
   "display_name": "Python 3",
   "language": "python",
   "name": "python3"
  },
  "language_info": {
   "codemirror_mode": {
    "name": "ipython",
    "version": 3
   },
   "file_extension": ".py",
   "mimetype": "text/x-python",
   "name": "python",
   "nbconvert_exporter": "python",
   "pygments_lexer": "ipython3",
   "version": "3.8.5"
  }
 },
 "nbformat": 4,
 "nbformat_minor": 4
}
